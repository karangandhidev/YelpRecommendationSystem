{
  "cells": [
    {
      "cell_type": "markdown",
      "metadata": {
        "id": "IG0DPj2gPpYU"
      },
      "source": [
        "# Mounting Drive\n"
      ]
    },
    {
      "cell_type": "code",
      "execution_count": null,
      "metadata": {
        "colab": {
          "base_uri": "https://localhost:8080/"
        },
        "id": "gCIq8aYGv10O",
        "outputId": "66fe3c4b-7ff7-45c6-d62a-bf03b24cba7d"
      },
      "outputs": [
        {
          "name": "stdout",
          "output_type": "stream",
          "text": [
            "Mounted at /content/drive\n"
          ]
        }
      ],
      "source": [
        "from google.colab import drive\n",
        "drive.mount('/content/drive',force_remount=True)"
      ]
    },
    {
      "cell_type": "markdown",
      "metadata": {
        "id": "Qosx7VimPwsh"
      },
      "source": [
        "# Import & Filter Data"
      ]
    },
    {
      "cell_type": "code",
      "execution_count": null,
      "metadata": {
        "id": "JgXywZ3lvDIQ"
      },
      "outputs": [],
      "source": [
        "import json\n",
        "#import business from dataset\n",
        "businesses = []\n",
        "for line in open('/content/drive/MyDrive/Project/SEM 5/Yelp Dataset/business.json', 'r',encoding=\"utf-8\"):\n",
        "    businesses.append(json.loads(line))\n",
        "businesses"
      ]
    },
    {
      "cell_type": "code",
      "execution_count": null,
      "metadata": {
        "colab": {
          "base_uri": "https://localhost:8080/"
        },
        "id": "QV0w-07EwdbO",
        "outputId": "3f8632a8-09eb-4ff6-c23f-10f95f09aedb"
      },
      "outputs": [
        {
          "data": {
            "text/plain": [
              "['Gastropubs, Food, Beer Gardens, Restaurants, Bars, American (Traditional), Beer Bar, Nightlife, Breweries',\n",
              " 'Salad, Soup, Sandwiches, Delis, Restaurants, Cafes, Vegetarian',\n",
              " 'Antiques, Fashion, Used, Vintage & Consignment, Shopping, Furniture Stores, Home & Garden',\n",
              " 'Beauty & Spas, Hair Salons',\n",
              " 'Gyms, Active Life, Interval Training Gyms, Fitness & Instruction',\n",
              " 'Restaurants, Thai',\n",
              " 'Dentists, Health & Medical, Orthodontists',\n",
              " 'Breakfast & Brunch, Restaurants',\n",
              " 'Shopping, Jewelry Repair, Appraisal Services, Local Services, Jewelry, Engraving, Gold Buyers',\n",
              " 'Barbers, Beauty & Spas',\n",
              " 'Food, Shopping, Convenience Stores, Souvenir Shops',\n",
              " 'Wigs, Hair Extensions, Hair Salons, Blow Dry/Out Services, Hair Stylists, Beauty & Spas, Shopping',\n",
              " 'Food, Pizza, Restaurants',\n",
              " 'Restaurants, American (New), Bakeries, Desserts, Food, Cupcakes',\n",
              " 'Books, Mags, Music & Video, Musical Instruments & Teachers, Pawn Shops, Shopping, Videos & Video Game Rental, Jewelry',\n",
              " 'Oil Change Stations, Smog Check Stations, Automotive, Car Wash',\n",
              " 'Restaurants, American (New), Food Court, Flowers & Gifts, Hotels & Travel, Gift Shops, Resorts, Shopping',\n",
              " 'Hotels, Vacation Rentals, Hotels & Travel, Event Planning & Services',\n",
              " 'Specialty Schools, Massage Schools, Middle Schools & High Schools, Vocational & Technical School, Adult Education, Education, Elementary Schools',\n",
              " 'Automotive, American (Traditional), Gas Stations, Restaurants, Food, Beer, Wine & Spirits',\n",
              " 'Nail Salons, Beauty & Spas',\n",
              " 'Auto Repair, Automotive, Tires',\n",
              " 'Hotels, American (Traditional), Restaurants, Event Planning & Services, Hotels & Travel',\n",
              " 'Tours, Museums, Architectural Tours, Venues & Event Spaces, Landmarks & Historical Buildings, Hotels & Travel, Arts & Entertainment, Community Service/Non-Profit, Local Services, Event Planning & Services, Public Services & Government, Historical Tours',\n",
              " 'Hotels, Hotels & Travel, Event Planning & Services',\n",
              " 'Shopping, Photography Stores & Services',\n",
              " 'Restaurants, Shopping, Shopping Centers',\n",
              " 'Home Services, Real Estate, Property Management',\n",
              " 'Nightlife, Bars, Gay Bars, Sports Bars',\n",
              " 'Sandwiches, Food, Restaurants, Breakfast & Brunch, Seafood, Italian, Beer, Wine & Spirits, Cocktail Bars, Gluten-Free, Nightlife, Bars, Salad',\n",
              " 'Health & Medical, Beauty & Spas, Massage Therapy, Massage, Chiropractors',\n",
              " 'Education, Preschools',\n",
              " 'Acupuncture, Prenatal/Perinatal Care, Health & Medical, Massage Therapy, Chiropractors',\n",
              " 'Food Delivery Services, Food, Restaurants, Mediterranean, Greek, Pizza',\n",
              " 'Playgrounds, Active Life',\n",
              " 'Creperies, Restaurants, Food, Coffee & Tea, Breakfast & Brunch',\n",
              " 'Nightlife, Sandwiches, Seafood, Restaurants',\n",
              " 'Chiropractors, Health & Medical',\n",
              " 'Food Trucks, Restaurants, Specialty Food, Food, Mexican, Ethnic Food',\n",
              " 'Diagnostic Services, Doctors, Internal Medicine, Pediatricians, Laboratory Testing, Health & Medical, Family Practice, Surgeons',\n",
              " 'Local Services, Shopping, Jewelry, Jewelry Repair, Watch Repair',\n",
              " 'Bars, Nightlife, Cocktail Bars, Seafood, Restaurants, Sushi Bars',\n",
              " 'Steakhouses, Restaurants, Salad, Barbeque, American (Traditional), Food',\n",
              " 'Local Services, Sewing & Alterations',\n",
              " 'Convenience Stores, Bakeries, Food, Grocery',\n",
              " 'Oil Change Stations, Auto Repair, Tires, Automotive',\n",
              " 'Pet Services, Pet Groomers, Pet Stores, Pet Sitting, Pets, Dog Walkers',\n",
              " 'Indian, Restaurants',\n",
              " 'Home & Garden, Furniture Stores, Shopping, Antiques',\n",
              " 'Train Stations, Trains, Hotels & Travel, Transportation, Public Transportation',\n",
              " 'Vegetarian, Vegan, Sandwiches, Soup, American (New), Fast Food, Restaurants, Wraps, American (Traditional)',\n",
              " 'Italian, Restaurants',\n",
              " 'Restaurants, Tex-Mex, Tacos, Fast Food, Breakfast & Brunch, Mexican',\n",
              " 'Restaurants, Chinese, Fast Food',\n",
              " 'Restaurants, Sandwiches, Pizza',\n",
              " 'Home Services, Keys & Locksmiths',\n",
              " 'Adult Education, Education, Colleges & Universities',\n",
              " 'Food, Coffee & Tea',\n",
              " 'Insurance, Financial Services',\n",
              " 'Junk Removal & Hauling, Movers, Local Services, Furniture Assembly, Home Services, Packing Services, Couriers & Delivery Services',\n",
              " 'Colleges & Universities, Education, Hotels & Travel, Public Services & Government, Passport & Visa Services, Travel Services',\n",
              " 'Fast Food, Restaurants, Burgers',\n",
              " 'Food, Restaurants, Cheesesteaks, Sandwiches, Juice Bars & Smoothies',\n",
              " 'Pizza, Event Planning & Services, Arcades, Party & Event Planning, Restaurants, Active Life, Arts & Entertainment, Kids Activities, Indoor Playcentre',\n",
              " 'Flooring, Hardware Stores, Home Services, Shopping, Home & Garden, Building Supplies',\n",
              " 'Coffee & Tea, Tex-Mex, Restaurants, Mexican, Food',\n",
              " 'Wallpapering, Home Services',\n",
              " 'Custom Cakes, Desserts, Coffee & Tea, Ice Cream & Frozen Yogurt, Kosher, Food, Restaurants',\n",
              " 'Carpenters, Painters, Damage Restoration, Home Services, Decks & Railing, Contractors',\n",
              " 'Car Dealers, Auto Repair, Automotive',\n",
              " 'Waxing, Hair Removal, Skin Care, Eyelash Service, Beauty & Spas, Massage, Nail Salons, Day Spas',\n",
              " 'Pet Groomers, Pets, Pet Services',\n",
              " 'Automotive, Auto Repair, Oil Change Stations, Gas Stations',\n",
              " 'Cinema, Arts & Entertainment',\n",
              " 'Restaurants, Food Delivery Services, Mexican, Desserts, Food, Seafood',\n",
              " 'Restaurants, Chinese',\n",
              " 'Local Services, Appliances & Repair',\n",
              " 'Auto Repair, Hotels & Travel, Automotive, Towing, Transportation',\n",
              " 'Interior Design, Cabinetry, Home Organization, Home Services',\n",
              " 'Food, Food Delivery Services',\n",
              " 'Home & Garden, Home Decor, Hardware Stores, Furniture Stores, Shopping, Kitchen & Bath',\n",
              " 'Skin Care, Hair Salons, Hair Removal, Beauty & Spas, Day Spas, Nail Salons, Massage',\n",
              " 'Shopping, Accessories, Fashion, Thrift Stores, Jewelry, Used, Vintage & Consignment',\n",
              " 'Casinos, Arts & Entertainment',\n",
              " 'Specialty Schools, Education, Gymnastics, Active Life',\n",
              " 'Shopping, Art Galleries, Arts & Entertainment',\n",
              " 'Restaurants, Patisserie/Cake Shop, Desserts, Food, Cupcakes, Bakeries',\n",
              " 'Banks & Credit Unions, Financial Services',\n",
              " 'Food, Ice Cream & Frozen Yogurt, Restaurants, Breakfast & Brunch, Desserts',\n",
              " 'Beauty & Spas, Hair Salons, Active Life, Day Spas',\n",
              " 'Beer, Wine & Spirits, Food',\n",
              " 'Food, Ice Cream & Frozen Yogurt',\n",
              " 'Caribbean, Restaurants, Puerto Rican',\n",
              " 'Food Stands, Restaurants, Sandwiches',\n",
              " 'Restaurants, Food, Sandwiches, Breakfast & Brunch, Gluten-Free, Coffee & Tea, Bagels',\n",
              " 'Home & Garden, Hardware Stores, Shopping',\n",
              " 'Home & Garden, Paint Stores, Hardware Stores, Shopping',\n",
              " 'Restaurants, American (New), Bistros',\n",
              " 'Active Life, Sporting Goods, Fashion, Shoe Stores, Shopping, Sports Wear, Fitness & Instruction',\n",
              " 'Yoga, Fitness & Instruction, Active Life, Pilates',\n",
              " 'Convenience Stores, Food',\n",
              " 'Acupuncture, Naturopathic/Holistic, Health & Medical, Traditional Chinese Medicine, Doctors',\n",
              " 'Massage, Hair Removal, Waxing, Beauty & Spas, Skin Care',\n",
              " 'Watches, Shopping',\n",
              " 'Do-It-Yourself Food, Restaurants, American (Traditional), Active Life, Grocery, Food, Local Flavor, Specialty Food, Kids Activities, Cafes, Delis',\n",
              " 'Restaurants, Mexican, Food Trucks, Food, Food Stands',\n",
              " 'Bookstores, Shopping, Educational Services, Books, Mags, Music & Video, Education',\n",
              " 'Taiwanese, Vietnamese, Restaurants',\n",
              " 'Professional Services, Home Services, Tree Services',\n",
              " 'Venues & Event Spaces, Wedding Planning, Caterers, Event Planning & Services',\n",
              " 'Cosmetic Dentists, Oral Surgeons, Dentists, Health & Medical, General Dentistry',\n",
              " 'Restaurants, Korean, Seafood',\n",
              " 'Ramen, Restaurants, Japanese',\n",
              " 'Oil Change Stations, Tires, Auto Repair, Automotive',\n",
              " 'Real Estate, Home Services, Apartments',\n",
              " 'Art Classes, Active Life, Local Services, Education, Child Care & Day Care, Kids Activities',\n",
              " 'Fast Food, Chicken Wings, Restaurants, Seafood',\n",
              " 'Doctors, Health & Medical, Obstetricians & Gynecologists',\n",
              " 'Restaurants, Chicken Wings, Seafood',\n",
              " 'Antiques, Home Decor, Kitchen & Bath, Wholesale Stores, Furniture Stores, Insurance, Home & Garden, Financial Services, Shopping',\n",
              " 'Life Insurance, Insurance, Health & Medical, Health Insurance Offices, Financial Services',\n",
              " 'Vegan, Vegetarian, Restaurants, Vietnamese, Diners',\n",
              " 'Coffee & Tea, Food',\n",
              " 'Automotive, Auto Repair, Wheel & Rim Repair, Tires, Auto Parts & Supplies',\n",
              " 'Chiropractors, Health & Medical, Nutritionists',\n",
              " 'Sushi Bars, Restaurants',\n",
              " 'Trampoline Parks, Active Life',\n",
              " 'Dog Walkers, Pet Sitting, Pet Services, Pets',\n",
              " \"Used, Vintage & Consignment, Baby Gear & Furniture, Children's Clothing, Shopping, Fashion\",\n",
              " 'Bars, Arts & Entertainment, Music Venues, Nightlife, Pool Halls',\n",
              " 'Restaurants, Canadian (New), Sushi Bars, American (New)',\n",
              " 'Chinese, Restaurants',\n",
              " 'Barbers, Hair Extensions, Day Spas, Hair Salons, Beauty & Spas, Hair Loss Centers, Nail Salons, Massage',\n",
              " 'Food, Food Delivery Services, Chinese, Restaurants, Japanese',\n",
              " 'Italian, Caterers, Restaurants, Brazilian, Greek, Event Planning & Services',\n",
              " 'Restaurants, Creperies',\n",
              " 'Food, Seafood Markets, International Grocery, Specialty Food, Ethnic Food',\n",
              " 'Seafood, Restaurants, Fish & Chips',\n",
              " 'Specialty Food, Candy Stores, Chocolatiers & Shops, Food',\n",
              " 'Pizza, Restaurants, Food Delivery Services, Food, Italian',\n",
              " 'Buffets, Restaurants, Soup, Vegetarian, Salad',\n",
              " 'Restaurants, Pizza',\n",
              " 'Restaurants, Waffles, American (New), Diners, Breakfast & Brunch, American (Traditional)',\n",
              " 'Doctors, Dermatologists, Health & Medical',\n",
              " 'Retirement Homes, Health & Medical, Assisted Living Facilities, Skilled Nursing',\n",
              " 'Caribbean, Cuban, Restaurants',\n",
              " 'Spray Tanning, Beauty & Spas, Tanning',\n",
              " 'Caterers, Bars, Sandwiches, Pubs, Restaurants, Nightlife, German, Desserts, Food Trucks, Venues & Event Spaces, Food, Event Planning & Services',\n",
              " 'Vitamins & Supplements, Fashion, Sporting Goods, Sports Wear, Specialty Food, Food, Health Markets, Shopping',\n",
              " 'Health & Medical, Retirement Homes',\n",
              " 'Insurance, Home & Rental Insurance, Auto Insurance, Financial Services',\n",
              " 'Day Spas, Tanning, Hair Stylists, Massage, Spray Tanning, Hair Salons, Nail Salons, Tui Na, Education, Beauty & Spas, Skin Care, Permanent Makeup, Specialty Schools, Traditional Chinese Medicine, Hair Extensions, Health & Medical, Reflexology',\n",
              " 'Restaurants, Sandwiches, Fast Food, American (Traditional), Salad',\n",
              " 'Beauty & Spas, Nail Salons',\n",
              " 'Towing, Automotive',\n",
              " 'Restaurants, Mexican',\n",
              " 'Videos & Video Game Rental, Books, Mags, Music & Video, Shopping, Music & DVDs',\n",
              " 'Arcades, Arts & Entertainment',\n",
              " 'Health & Medical, Podiatrists, Doctors, Orthopedists',\n",
              " 'Day Spas, Nail Salons, Hair Removal, Beauty & Spas, Waxing',\n",
              " 'Bikes, Shopping, Bike Repair/Maintenance, Local Services, Sporting Goods',\n",
              " 'Nightlife, Pizza, Sandwiches, Mediterranean, Greek, Bars, Italian, Restaurants',\n",
              " 'Animal Shelters, Pet Groomers, Pet Sitting, Pet Services, Pets',\n",
              " 'Home Services, Shopping, Home Theatre Installation, Electronics, High Fidelity Audio Equipment',\n",
              " 'Soccer, Mini Golf, Event Planning & Services, Venues & Event Spaces, Active Life, Golf',\n",
              " 'Event Planning & Services, Hotels & Travel, Hotels',\n",
              " 'Oral Surgeons, Dentists, Health & Medical',\n",
              " 'Fitness & Instruction, Active Life, Pilates, Physical Therapy, Health & Medical',\n",
              " 'Nail Salons, Beauty & Spas, Skin Care',\n",
              " 'Automotive, Gas Stations',\n",
              " 'Challenge Courses, Recreation Centers, Amusement Parks, Arts & Entertainment, Nightlife, Active Life, Escape Games',\n",
              " 'Home Decor, Home & Garden, Furniture Stores, Interior Design, Shopping, Accessories, Fashion, Flowers & Gifts, Jewelry, Home Services',\n",
              " 'Home Services, Plumbing, Water Heater Installation/Repair',\n",
              " 'Automotive, Auto Repair',\n",
              " 'Food, Specialty Food, Restaurants, African',\n",
              " 'Doctors, Health & Medical',\n",
              " 'Restaurants, Southern',\n",
              " 'Transportation, Taxis, Hotels & Travel',\n",
              " 'Home Services, Flooring, Carpet Installation, Tiling, Carpeting, Refinishing Services',\n",
              " 'Beauty & Spas, Hair Removal, Threading Services, Waxing, Eyebrow Services, Eyelash Service',\n",
              " 'Car Wash, Automotive, Auto Detailing',\n",
              " 'Convenience Stores, Restaurants, Delis, Food',\n",
              " 'Pet Stores, Pets',\n",
              " 'Podiatrists, Doctors, Health & Medical, Orthopedists',\n",
              " 'Mexican, Restaurants, Tacos, Breakfast & Brunch',\n",
              " 'Churches, Religious Organizations',\n",
              " 'Shopping, Party & Event Planning, Art Schools, Art Galleries, Specialty Schools, Event Planning & Services, Nightlife, Art Classes, Paint & Sip, Education, Arts & Entertainment',\n",
              " 'Restaurants, Nightlife, Mexican, Bars, Sports Bars, Tex-Mex',\n",
              " 'Keys & Locksmiths, Garage Door Services, Home Services',\n",
              " 'Restaurants, Dim Sum, Chinese',\n",
              " 'Internet Service Providers, Shopping, Mobile Phones, Professional Services, Electronics, Home Services',\n",
              " 'Restaurants, Delis',\n",
              " 'Home Services, Apartments, Real Estate',\n",
              " 'Italian, Salad, Pizza, Nightlife, Restaurants, Bars',\n",
              " 'Mediterranean, Food, Restaurants, Food Trucks',\n",
              " 'Optometrists, Health & Medical, Eyewear & Opticians, Doctors, Shopping, Pharmacy, Ophthalmologists',\n",
              " 'Food, Specialty Food, Farmers Market, Butcher, Meat Shops',\n",
              " 'Heating & Air Conditioning/HVAC, Appliances, Appliances & Repair, Home & Garden, Local Services, Home Services, Handyman, Lighting Fixtures & Equipment, Shopping',\n",
              " 'Shopping, Electronics, Mobile Phone Accessories, Mobile Phones',\n",
              " 'Restaurants, Asian Fusion, Chinese',\n",
              " 'Apartments, Real Estate, Home Services',\n",
              " 'Caterers, Event Planning & Services, Fast Food, Southern, Restaurants',\n",
              " 'Automotive, Auto Detailing, Car Wash',\n",
              " 'Chinese, Japanese, Restaurants, Buffets',\n",
              " 'Medical Supplies, Orthotics, Prosthetics, Health & Medical, Shopping',\n",
              " 'Handyman, Masonry/Concrete, Home Services, Contractors',\n",
              " 'Beauty & Spas, Massage Therapy, Health & Medical, Massage',\n",
              " \"Women's Clothing, Shopping, Fashion\",\n",
              " 'Coffee & Tea, Breakfast & Brunch, Food, Restaurants, Donuts',\n",
              " 'General Dentistry, Periodontists, Cosmetic Dentists, Health & Medical, Dentists',\n",
              " 'Fast Food, Restaurants, Food, Coffee & Tea, Burgers',\n",
              " 'Steakhouses, Restaurants, American (Traditional), Seafood',\n",
              " 'Diners, Restaurants',\n",
              " 'Auto Repair, Oil Change Stations, Auto Parts & Supplies, Auto Customization, Automotive',\n",
              " 'Florists, Event Planning & Services, Shopping, Flowers & Gifts',\n",
              " 'Desserts, Bakeries, Food',\n",
              " 'Cosmetics & Beauty Supply, Beauty & Spas, Shopping, Specialty Food, Food',\n",
              " 'Automotive, Auto Repair, Tires, Transmission Repair',\n",
              " 'Nail Salons, Skin Care, Beauty & Spas, Eyelash Service',\n",
              " 'Restaurants, Breakfast & Brunch, American (Traditional)',\n",
              " 'Health & Medical, Yoga, Active Life, Fitness & Instruction',\n",
              " 'Brewing Supplies, Hobby Shops, Shopping',\n",
              " 'Local Services, Laundry Services, Dry Cleaning & Laundry',\n",
              " 'Italian, Pizza, Restaurants',\n",
              " 'Beauty & Spas, Cosmetics & Beauty Supply, Shopping, Skin Care',\n",
              " 'Automotive, Body Shops',\n",
              " \"Shopping, Fashion, Women's Clothing, Local Services, Men's Clothing, Screen Printing/T-Shirt Printing\",\n",
              " 'Food, Pizza, Italian, Restaurants',\n",
              " 'Coffee & Tea, Restaurants, Food',\n",
              " 'Event Planning & Services, Cafes, Restaurants, American (Traditional), Venues & Event Spaces',\n",
              " 'Pizza, Restaurants',\n",
              " 'Home Services, Real Estate, Real Estate Services, Property Management',\n",
              " 'Desserts, French, Food, Restaurants, Creperies',\n",
              " 'Restaurants, Chicken Wings',\n",
              " 'Health & Medical, Optometrists',\n",
              " 'Shopping, Jewelry, Pawn Shops',\n",
              " 'Barbers, Professional Services, Beauty & Spas, Hair Salons',\n",
              " 'Health & Medical, Endodontists, General Dentistry, Cosmetic Dentists, Dentists',\n",
              " 'Delis, Restaurants, Caterers, Event Planning & Services, Vietnamese',\n",
              " 'Sushi Bars, Restaurants, Nightlife, Chinese, Japanese, Buffets, Bars, American (Traditional)',\n",
              " 'Hair Removal, Waxing, Nail Salons, Hair Salons, Beauty & Spas',\n",
              " 'Venues & Event Spaces, Event Planning & Services, Public Services & Government, Music Venues, Community Centers, Arts & Entertainment, Nightlife',\n",
              " 'Restaurants, Cafes, Food, Coffee & Tea',\n",
              " 'Restaurants, Coffee & Tea, Food, Burgers, Fast Food',\n",
              " 'Ice Cream & Frozen Yogurt, Food',\n",
              " 'Pet Training, Pet Groomers, Pets, Pet Services, Pet Sitting',\n",
              " 'Food, Coffee & Tea, Restaurants, Cafes',\n",
              " 'Health & Medical, Beauty & Spas, Massage, Fitness & Instruction, Active Life, Massage Therapy, Yoga',\n",
              " 'Tex-Mex, Mexican, Tacos, Restaurants',\n",
              " 'Family Practice, Health & Medical, Doctors',\n",
              " 'Shoe Repair, Local Services',\n",
              " 'Local Services, Property Management, Home & Garden, Shopping, Real Estate, Home Cleaning, Contractors, Carpet Cleaning, Home Services, Real Estate Services',\n",
              " 'Food, Department Stores, Grocery, Shopping, Fashion, Electronics, Home & Garden, Furniture Stores',\n",
              " 'Tires, Automotive, Wheel & Rim Repair',\n",
              " 'Car Rental, Hotels & Travel',\n",
              " 'Pizza, Restaurants, American (Traditional), American (New), Sandwiches',\n",
              " 'Health & Medical, General Dentistry, Home Health Care, Cosmetic Dentists, Dentists, Periodontists',\n",
              " 'Food Stands, Thai, Soup, Restaurants',\n",
              " 'Pain Management, Chiropractors, Doctors, Alternative Medicine, Medical Centers, Neuropathologists, Health & Medical',\n",
              " 'Public Services & Government',\n",
              " 'Antiques, Fashion, Home Decor, Shopping, Used, Vintage & Consignment, Furniture Stores, Furniture Repair, Home & Garden, Local Services',\n",
              " 'Health & Medical, Doctors, Otologists',\n",
              " 'Home Services, Painters',\n",
              " 'Restaurants, Sandwiches, Breakfast & Brunch, Bagels, Soup, Bakeries, Food, Salad',\n",
              " 'Restaurants, Indian',\n",
              " 'Hotels & Travel, Hotels, Resorts, Event Planning & Services',\n",
              " 'Sports Bars, Soup, American (New), Restaurants, Bars, Nightlife, Breakfast & Brunch, American (Traditional)',\n",
              " 'International Grocery, Meat Shops, Specialty Food, Convenience Stores, Food, Mexican, Restaurants',\n",
              " 'Shopping, Fashion, Department Stores',\n",
              " 'Restaurants, Italian, Pizza, Delis, Sandwiches',\n",
              " \"Men's Clothing, Fashion, Women's Clothing, Shopping, Children's Clothing\",\n",
              " 'Health & Medical, Neurologist, Surgeons, Doctors',\n",
              " 'Health & Medical, Orthodontists, Doctors, Orthopedists, Dentists',\n",
              " 'Cosmetic Dentists, Dentists, Health & Medical, General Dentistry',\n",
              " 'American (Traditional), Steakhouses, Restaurants',\n",
              " 'Ethnic Food, African, Food, Restaurants, Specialty Food',\n",
              " 'Restaurants, Food Trucks, Food Stands, Food, Middle Eastern, Persian/Iranian, Mediterranean',\n",
              " 'Tires, Wheel & Rim Repair, Automotive, Local Services, Auto Parts & Supplies, Self Storage',\n",
              " 'Art Galleries, Arts & Entertainment, Shopping, Local Flavor',\n",
              " 'Florists, Event Planning & Services, Flowers & Gifts, Home & Garden, Floral Designers, Shopping, Firewood, Home Services, Nurseries & Gardening, Christmas Trees, Gift Shops',\n",
              " 'Auto Repair, Transmission Repair, Automotive',\n",
              " 'Italian, Wine Bars, Nightlife, Salad, Bars, Restaurants, Soup',\n",
              " 'Archery, Team Building Activities, Arts & Entertainment, Event Planning & Services, Stadiums & Arenas, Active Life',\n",
              " 'Local Services, Dry Cleaning & Laundry, Laundry Services',\n",
              " 'Shopping, Home & Garden, Mattresses',\n",
              " 'Event Planning & Services, Venues & Event Spaces, DJs',\n",
              " 'Caterers, Southern, Restaurants, Event Planning & Services',\n",
              " 'Body Shops, Automotive',\n",
              " 'Doctors, Optometrists, Ophthalmologists, Health & Medical',\n",
              " 'Health & Medical, General Dentistry, Oral Surgeons, Dentists, Periodontists, Cosmetic Dentists, Pediatric Dentists',\n",
              " 'Hotels & Travel, Car Rental',\n",
              " 'Food, Grocery',\n",
              " 'Veterinarians, Pets',\n",
              " 'Automotive, Auto Parts & Supplies, Car Dealers, Auto Repair',\n",
              " 'Latin American, Tapas Bars, Brazilian, Restaurants',\n",
              " 'Filipino, Convenience Stores, Food, Restaurants, Specialty Food, Grocery, International Grocery',\n",
              " 'Automotive, Tires, Auto Parts & Supplies, Oil Change Stations, Auto Repair',\n",
              " 'Editorial Services, Career Counseling, Life Coach, Professional Services',\n",
              " 'Pet Groomers, Pet Services, Pet Sitting, Pets',\n",
              " 'Apartments, Home Services, Real Estate',\n",
              " 'Italian, Bars, Wine Bars, Restaurants, Nightlife, Event Planning & Services, Venues & Event Spaces, Food, Specialty Food',\n",
              " 'Movers, Home Services',\n",
              " 'Restaurants, Cajun/Creole, Food, Southern, Food Trucks, Donuts, Seafood',\n",
              " 'Massage Therapy, Beauty & Spas, Health & Medical, Massage, Reflexology',\n",
              " 'Local Services, Shoe Repair',\n",
              " 'American (New), Bars, Barbeque, Lounges, Nightlife, Restaurants',\n",
              " 'Shopping, Eyewear & Opticians',\n",
              " 'Marketing, Real Estate, Professional Services, Home Services, Apartments',\n",
              " 'Restaurants, Food, Food Trucks, Mexican',\n",
              " 'Beauty & Spas, Nail Salons, Hair Salons, Day Spas, Cosmetics & Beauty Supply, Shopping, Massage',\n",
              " 'Spray Tanning, Eyelash Service, Beauty & Spas, Permanent Makeup, Medical Spas, Skin Care, Tanning, Health & Medical',\n",
              " 'Restaurants, Burgers, Fast Food',\n",
              " 'Nail Salons, Estheticians, Skin Care, Beauty & Spas',\n",
              " 'Food Trucks, Food',\n",
              " 'Hair Salons, Beauty & Spas, Skin Care, Nail Salons',\n",
              " 'Middle Eastern, Restaurants',\n",
              " 'Couriers & Delivery Services, Local Services',\n",
              " 'American (New), Nightlife, Breakfast & Brunch, Restaurants, Bars, Event Planning & Services, American (Traditional), Caterers',\n",
              " 'Delis, Restaurants',\n",
              " 'Home & Garden, Furniture Stores, Fashion, Used, Vintage & Consignment, Shopping, Rehabilitation Center, Thrift Stores, Health & Medical',\n",
              " 'Pest Control, Local Services, Professional Services',\n",
              " \"Gift Shops, Shopping, Head Shops, Fashion, Women's Clothing, Jewelry, Tobacco Shops, Flowers & Gifts\",\n",
              " 'Automotive, Car Dealers',\n",
              " \"Shopping, Fashion, Accessories, Women's Clothing, Shoe Stores\",\n",
              " 'Hair Salons, Hair Extensions, Wigs, Shopping, Cosmetics & Beauty Supply, Beauty & Spas',\n",
              " 'Coffee & Tea, Fast Food, Restaurants, Food, Burgers',\n",
              " 'Italian, Restaurants, Specialty Food, American (New), Food',\n",
              " 'Financial Services, Banks & Credit Unions',\n",
              " 'Burgers, Chicken Wings, Restaurants, American (Traditional)',\n",
              " 'Sporting Goods, Shopping, Bike Rentals, Active Life, Bikes',\n",
              " 'Hair Salons, Barbers, Beauty & Spas, Nail Salons',\n",
              " 'Shopping, Department Stores, Fashion',\n",
              " 'Health & Medical, Midwives',\n",
              " 'Financial Services, Professional Services, Accountants, Financial Advising, Tax Services',\n",
              " 'Gluten-Free, Pizza, Restaurants',\n",
              " 'Restaurants, Beer, Wine & Spirits, Food, Italian',\n",
              " 'Barbers, Hair Salons, Waxing, Hair Removal, Beauty & Spas',\n",
              " 'Nightlife, Dive Bars, Bars, Adult Entertainment, Dance Clubs',\n",
              " 'Local Services, Jewelry Repair, Shopping, Appraisal Services, Jewelry, Gold Buyers, Watch Repair',\n",
              " 'Barbers, Beauty & Spas, Hair Salons',\n",
              " 'Child Care & Day Care, Nanny Services, Local Services',\n",
              " 'American (New), Bars, Restaurants, Wine Bars, Nightlife',\n",
              " 'Medical Supplies, Shopping, Health & Medical, Cannabis Dispensaries, Cannabis Clinics',\n",
              " 'Mobile Phone Repair, Local Services, Shopping, IT Services & Computer Repair, Data Recovery, Computers',\n",
              " 'Shopping, Arts & Crafts, Art Supplies, Hobby Shops, Toy Stores',\n",
              " 'Contractors, Flooring, Interior Design, Home Services',\n",
              " 'Beauty & Spas, Hair Extensions, Hair Salons, Cosmetics & Beauty Supply, Shopping',\n",
              " 'Food, Grocery, Bakeries, Shopping, Drugstores',\n",
              " 'Home Services, Electricians, Local Services, Lighting Fixtures & Equipment',\n",
              " 'Pest Control, Local Services',\n",
              " 'Home Services, Appliances & Repair, Heating & Air Conditioning/HVAC, Local Services',\n",
              " 'Event Planning & Services, Editorial Services, Session Photography, Event Photography, Photographers, Professional Services, Boudoir Photography',\n",
              " 'Local Services, Shipping Centers, Public Services & Government, Post Offices',\n",
              " 'Sports Wear, Sporting Goods, Shopping, Fashion',\n",
              " 'Halal, Persian/Iranian, Restaurants, Middle Eastern, Sandwiches',\n",
              " 'Food, Beer, Wine & Spirits, Restaurants, Fast Food, Pizza, Gluten-Free',\n",
              " 'Tires, Automotive, Used Car Dealers, Auto Repair',\n",
              " 'High Fidelity Audio Equipment, Local Services, Shopping, Electronics Repair, Home Theatre Installation, Home Services',\n",
              " 'Restaurants, Sandwiches, Soup, Delis, Food, Ice Cream & Frozen Yogurt',\n",
              " 'Shopping, Florists, Flowers & Gifts',\n",
              " 'Food, Fast Food, Chinese, Restaurants',\n",
              " 'Automotive, Auto Repair, Auto Parts & Supplies',\n",
              " 'Local Services',\n",
              " 'Coffee & Tea, Food, Hot Dogs, Restaurants, Bubble Tea',\n",
              " 'Cheesesteaks, Burgers, Restaurants, Sandwiches',\n",
              " 'Coffee Roasteries, Cafes, Food, Coffee & Tea, Restaurants',\n",
              " 'Restaurants, Food Trucks, American (Traditional), Food',\n",
              " 'Notaries, Local Services',\n",
              " 'Tires, Wheel & Rim Repair, Automotive',\n",
              " 'Hotels, Event Planning & Services, Hotels & Travel',\n",
              " 'Pets, Pet Services, Pet Groomers',\n",
              " 'Coffee & Tea, Bakeries, Breakfast & Brunch, Food, Restaurants',\n",
              " 'Beauty & Spas, Perfume, Home Decor, Shopping, Home & Garden, Bookstores, Books, Mags, Music & Video',\n",
              " 'Automotive, Oil Change Stations, Auto Repair, Shopping, Battery Stores, Tires',\n",
              " \"Shopping, Fashion, Women's Clothing, Bridal, Used, Vintage & Consignment, Plus Size Fashion\",\n",
              " 'Mobile Phone Repair, Local Services, IT Services & Computer Repair, Electronics Repair',\n",
              " 'Electricians, Home Services',\n",
              " 'Tires, Auto Repair, Oil Change Stations, Automotive',\n",
              " 'Canadian (New), Cocktail Bars, Bars, Nightlife, Restaurants, Sushi Bars',\n",
              " 'Bars, Wine Bars, Food, Nightlife, Restaurants, Seafood, Desserts',\n",
              " 'Ophthalmologists, Health & Medical, Doctors',\n",
              " 'Home Services, Local Services, Heating & Air Conditioning/HVAC, Professional Services',\n",
              " 'Food, Donuts, Breakfast & Brunch, Restaurants, Coffee & Tea',\n",
              " 'Bars, Cocktail Bars, Nightlife',\n",
              " 'Auto Parts & Supplies, Auto Repair, Automotive, Car Dealers, Auto Loan Providers, Used Car Dealers',\n",
              " 'Chinese, Restaurants, Vietnamese',\n",
              " 'Pizza, Restaurants, Italian',\n",
              " 'Specialty Food, Food, Seafood Markets',\n",
              " 'Active Life',\n",
              " 'Sandwiches, Restaurants, American (New), Italian, Pizza',\n",
              " 'Burgers, Restaurants, Fast Food',\n",
              " 'Active Life, Cycling Classes',\n",
              " \"Women's Clothing, Accessories, Shoe Stores, Fashion, Shopping\",\n",
              " 'Hair Salons, Shopping, Barbers, Cosmetics & Beauty Supply, Professional Services, Beauty & Spas',\n",
              " 'Beauty & Spas, Hair Salons, Hair Stylists, Antiques, Fashion, Used, Vintage & Consignment, Shopping',\n",
              " 'Taxis, Airport Shuttles, Transportation, Hotels & Travel',\n",
              " 'Doctors, Obstetricians & Gynecologists, Medical Centers, Health & Medical',\n",
              " 'Barre Classes, Fitness & Instruction, Gyms, Pilates, Active Life',\n",
              " 'Family Practice, Doctors, Health & Medical',\n",
              " \"Fashion, Local Services, Women's Clothing, Leather Goods, Sewing & Alterations, Shopping\",\n",
              " 'Breakfast & Brunch, American (New), American (Traditional), Restaurants, Diners, Waffles',\n",
              " 'Restaurants, Coffee & Tea, Cafes, Food, Tea Rooms',\n",
              " 'Italian, Restaurants, Pizza',\n",
              " 'Bars, Restaurants, Sandwiches, American (Traditional), Cocktail Bars, Chicken Shop, Nightlife',\n",
              " 'Restaurants, American (Traditional)',\n",
              " 'Nurseries & Gardening, Home & Garden, Shopping, Auto Repair, Automotive',\n",
              " \"Children's Clothing, Accessories, Art Supplies, Arts & Crafts, Books, Mags, Music & Video, Shopping, Bookstores, Fashion\",\n",
              " 'Local Flavor, Hotels & Travel, Tours',\n",
              " 'Art Galleries, Shopping, Local Flavor, Arts & Entertainment, Beauty & Spas, Hair Salons',\n",
              " \"Hair Salons, Men's Hair Salons, Beauty & Spas, Barbers\",\n",
              " 'Home Services, Home & Garden, Shopping, Interior Design, Furniture Stores, Home Decor',\n",
              " 'Hospitals, Health & Medical, Rehabilitation Center, Doctors',\n",
              " 'Auto Repair, Automotive',\n",
              " 'Shipping Centers, Local Services',\n",
              " 'Food Stands, Food, Thai, Food Trucks, Bubble Tea, Restaurants',\n",
              " 'Automotive, Home Services, Auto Repair, Auto Parts & Supplies, Home Window Tinting, Car Window Tinting, Auto Glass Services',\n",
              " 'Fast Food, American (Traditional), Restaurants',\n",
              " 'Coffee & Tea, Restaurants, Fast Food, Burgers, Food',\n",
              " 'Medical Spas, Beauty & Spas, Doctors, Laser Hair Removal, Skin Care, Cosmetic Surgeons, Hair Removal, Health & Medical',\n",
              " 'Health & Medical, Physical Therapy, Massage Therapy, Chiropractors, Acupuncture',\n",
              " 'Restaurants, Pizza, Sandwiches, Chicken Wings',\n",
              " 'Arts & Crafts, Shopping',\n",
              " 'Real Estate, Apartments, Home Services',\n",
              " 'Home Services, Home Cleaning, Pressure Washers, Roofing, Painters',\n",
              " 'Doctors, Medical Spas, Oral Surgeons, Cosmetic Surgeons, Dentists, Beauty & Spas, Health & Medical',\n",
              " 'Shopping, Home & Garden, Arts & Entertainment, Contractors, Home Services, Art Galleries, Furniture Stores, Security Systems, Electronics',\n",
              " \"Day Spas, Barbers, Men's Hair Salons, Hair Salons, Beauty & Spas\",\n",
              " 'Nail Salons, Day Spas, Hair Salons, Beauty & Spas, Massage',\n",
              " 'Bars, Lounges, Nightlife, Cafes, Restaurants, Hookah Bars',\n",
              " 'Asian Fusion, Noodles, Chinese, Restaurants, Indian',\n",
              " 'Shoe Stores, Shoe Repair, Shopping, Fashion, Local Services',\n",
              " 'Home Inspectors, Home Services',\n",
              " 'Nurseries & Gardening, Florists, Flowers & Gifts, Shopping, Home & Garden',\n",
              " 'Florists, Shopping, Flowers & Gifts',\n",
              " 'Restaurants, Seafood',\n",
              " 'Beauty & Spas, Skin Care, Medical Centers, Laser Hair Removal, Health & Medical, Body Contouring, Medical Spas, Hair Removal',\n",
              " 'Pubs, Restaurants, Nightlife, Breakfast & Brunch, Bars, Japanese, Cocktail Bars',\n",
              " 'Event Planning & Services, Session Photography, Event Photography, Photographers',\n",
              " 'Local Services, Home Services, Movers, Packing Supplies, Shopping, Junk Removal & Hauling, Packing Services',\n",
              " 'Active Life, Gyms, Fitness & Instruction, Boot Camps, Yoga, Trainers',\n",
              " 'Home Services, Mortgage Brokers, Real Estate',\n",
              " 'Education, Health & Medical, Colleges & Universities, Acupuncture, Naturopathic/Holistic, Doctors',\n",
              " 'Tobacco Shops, Shopping, Wine Bars, Bars, Nightlife, Lounges',\n",
              " 'Food, Fast Food, Restaurants, Coffee & Tea, Burgers',\n",
              " 'Medical Centers, Health & Medical, Walk-in Clinics, Counseling & Mental Health, Urgent Care',\n",
              " 'Nightlife, Burgers, Bars, Beer Bar, Restaurants, American (New)',\n",
              " 'Motorcycle Dealers, Automotive',\n",
              " 'Delis, Sandwiches, Tapas/Small Plates, Restaurants, Nightlife, Bars',\n",
              " 'Auto Detailing, Automotive, Car Wash',\n",
              " 'Mexican, Restaurants, Food Stands, Latin American, Food, Food Trucks',\n",
              " 'Shopping, Waxing, Beauty & Spas, Hair Salons, Cosmetics & Beauty Supply, Hair Removal',\n",
              " 'Health & Medical, Medical Spas, Skin Care, Beauty & Spas, Massage, Day Spas',\n",
              " 'Hotels & Travel, Venues & Event Spaces, Event Planning & Services, Hotels',\n",
              " 'Juice Bars & Smoothies, Cafes, Mexican, Vegetarian, Restaurants, American (New), Food, Vegan, Salad',\n",
              " 'Dry Cleaning & Laundry, Local Services, Laundry Services, Shoe Repair, Sewing & Alterations',\n",
              " 'Drugstores, Delis, Restaurants, Shopping, Grocery, Food',\n",
              " 'Restaurants, Caribbean',\n",
              " 'Shopping, Optometrists, Laser Eye Surgery/Lasik, Eyewear & Opticians, Health & Medical',\n",
              " 'Hotels & Travel, Airlines, Transportation',\n",
              " 'Heating & Air Conditioning/HVAC, Home Services',\n",
              " 'Filipino, Noodles, Restaurants',\n",
              " 'Burgers, American (New), Fast Food, Restaurants, Food',\n",
              " 'Life Coach, Professional Services, Counseling & Mental Health, Career Counseling, Health & Medical',\n",
              " \"Shopping, Department Stores, Men's Clothing, Personal Shopping, Accessories, Shoe Stores, Fashion\",\n",
              " 'Hair Salons, Beauty & Spas',\n",
              " 'Shopping, Drugstores',\n",
              " 'Vacation Rentals, Public Services & Government, Hotels & Travel, Bed & Breakfast, Landmarks & Historical Buildings',\n",
              " 'Home Services, Contractors',\n",
              " 'Home Services, Farms, Specialty Food, Local Flavor, Food, Plumbing, Fruits & Veggies, Arts & Entertainment, Attraction Farms, Home Decor, Pumpkin Patches, Home & Garden, Christmas Trees, Farmers Market, Shopping',\n",
              " 'Junk Removal & Hauling, Local Services',\n",
              " 'Food, Ethnic Food, Mexican, Specialty Food, Restaurants',\n",
              " 'Local Services, Jewelry, Watch Repair, Watches, Jewelry Repair, Shopping',\n",
              " 'Bars, Restaurants, American (New), American (Traditional), Sports Bars, Nightlife',\n",
              " 'Public Services & Government, Libraries',\n",
              " 'Burgers, Hot Dogs, Restaurants',\n",
              " \"Men's Hair Salons, Hair Salons, Beauty & Spas, Barbers, Hair Stylists\",\n",
              " 'Tires, Automotive, Commercial Truck Repair, Auto Repair',\n",
              " 'Sushi Bars, Steakhouses, Asian Fusion, Japanese, Restaurants',\n",
              " 'Optometrists, Health & Medical, Eyewear & Opticians, Shopping',\n",
              " 'Bars, American (Traditional), Nightlife, Barbeque, Restaurants, Sports Bars',\n",
              " 'Burgers, Restaurants, Coffee & Tea, Fast Food, Food',\n",
              " 'Beauty & Spas, Barbers',\n",
              " 'Pool & Hot Tub Service, Home Services, Shopping, Hot Tub & Pool, Pool Cleaners, Home & Garden',\n",
              " 'Mobile Phone Repair, Electronics Repair, IT Services & Computer Repair, Local Services',\n",
              " 'Active Life, Gyms, Fitness & Instruction, Trainers, Fitness/Exercise Equipment, Shopping',\n",
              " 'Event Planning & Services, Party Supplies, Amusement Parks, Playgrounds, Trampoline Parks, Child Care & Day Care, Active Life, Local Services, Challenge Courses',\n",
              " 'American (Traditional), Sports Bars, Restaurants, Bars, Nightlife',\n",
              " 'Automotive, Auto Customization, Oil Change Stations, Auto Repair',\n",
              " 'Cuban, Sandwiches, Restaurants',\n",
              " 'American (Traditional), Food Trucks, Food, Restaurants',\n",
              " 'Bakeries, Food',\n",
              " 'Pets, Pet Services, Pet Groomers, Pet Sitting',\n",
              " 'Food, Specialty Food, Juice Bars & Smoothies, Health Markets',\n",
              " 'Pets, Veterinarians',\n",
              " 'Active Life, Fitness & Instruction, Trainers, Gyms, Boot Camps',\n",
              " 'Restaurants, Grocery, Mexican, Specialty Food, Food',\n",
              " 'Tobacco Shops, Shopping, Food, Beer, Wine & Spirits',\n",
              " 'Caterers, Event Planning & Services, Beer, Wine & Spirits, Grocery, Food, Cheese Shops, Specialty Food, Health Markets',\n",
              " 'Home & Garden, Shopping, Hardware Stores',\n",
              " 'Hair Salons, Hair Extensions, Beauty & Spas, Makeup Artists, Blow Dry/Out Services, Hair Stylists',\n",
              " 'Beauty & Spas, Hair Stylists, Hair Salons',\n",
              " 'Real Estate Agents, Commercial Real Estate, Home Services, Real Estate, Real Estate Services',\n",
              " 'Appliances, Home & Garden, Kitchen & Bath, Home Decor, Shopping',\n",
              " 'Restaurants, Food, Grocery, Delis, Pharmacy, Health & Medical',\n",
              " 'Vape Shops, Head Shops, Shopping, Food, Tobacco Shops',\n",
              " 'Bakeries, Custom Cakes, Desserts, Food',\n",
              " 'Active Life, Sailing, Boating, Paddleboarding, Rafting/Kayaking',\n",
              " 'Car Dealers, Automotive, Auto Repair, Used Car Dealers',\n",
              " 'Pizza, Cheesesteaks, Restaurants, Salad',\n",
              " 'Eyebrow Services, Makeup Artists, Beauty & Spas, Permanent Makeup',\n",
              " 'Middle Eastern, Mediterranean, Restaurants, Halal',\n",
              " 'Shopping, Wholesale Stores',\n",
              " 'Restaurants, Italian, Pizza',\n",
              " 'Pizza, Restaurants, Chicken Wings, Sandwiches',\n",
              " 'Food, Restaurants, Donuts, Coffee & Tea',\n",
              " 'Massage Therapy, Beauty & Spas, Massage, Health & Medical',\n",
              " 'Jewelry, Arts & Entertainment, Shopping, Home & Garden, Home Decor, Furniture Stores, Antiques, Art Galleries',\n",
              " 'Automotive, Body Shops, Auto Repair, Windshield Installation & Repair',\n",
              " 'Museums, Arts & Entertainment',\n",
              " 'Breakfast & Brunch, Comfort Food, Restaurants, Filipino, Asian Fusion',\n",
              " 'Restaurants, Mexican, Food, Tacos, Ice Cream & Frozen Yogurt, Seafood, Sandwiches',\n",
              " 'Financial Advising, Financial Services, Departments of Motor Vehicles, Public Services & Government',\n",
              " 'Beauty & Spas, Hair Stylists, Makeup Artists, Hair Salons, Event Planning & Services, Party & Event Planning',\n",
              " 'Restaurants, Seafood, American (Traditional)',\n",
              " 'Food, Wine Bars, Bars, Bakeries, Desserts, Nightlife, Specialty Food, Chocolatiers & Shops',\n",
              " 'Flowers & Gifts, Art Supplies, Gift Shops, Shopping, Arts & Crafts',\n",
              " 'Health & Medical, Emergency Medicine, Doctors, Emergency Rooms',\n",
              " 'African, Restaurants',\n",
              " 'Outdoor Gear, Eyewear & Opticians, Fashion, Sports Wear, Shopping, Sporting Goods',\n",
              " 'Pet Training, Dog Walkers, Pet Sitting, Pets, Pet Services',\n",
              " 'Active Life, Fitness & Instruction, Trainers, Gyms',\n",
              " 'Cafes, American (Traditional), Restaurants, Breakfast & Brunch',\n",
              " 'Bakeries, Coffee & Tea, Shopping, Food',\n",
              " 'Local Services, Junk Removal & Hauling, Movers, Packing Services, Home Services',\n",
              " 'Food, Desserts',\n",
              " 'Barbeque, Restaurants',\n",
              " 'Gluten-Free, Restaurants, Food, Coffee & Tea',\n",
              " 'Specialty Food, Farmers Market, Fruits & Veggies, Food',\n",
              " 'Shopping, Shopping Centers',\n",
              " 'Kids Activities, Recreation Centers, Venues & Event Spaces, Education, Active Life, Team Building Activities, Specialty Schools, Flight Instruction, Event Planning & Services, Arcades, Arts & Entertainment',\n",
              " 'Physical Therapy, Health & Medical',\n",
              " 'Canadian (New), Tapas/Small Plates, Restaurants, Nightlife, Wine Bars, Bars',\n",
              " 'Cajun/Creole, Restaurants, Breakfast & Brunch, Sandwiches, American (Traditional), Southern',\n",
              " 'American (New), Nightlife, Bars, Karaoke, Restaurants',\n",
              " \"Toy Stores, Bookstores, Shopping, Children's Clothing, Books, Mags, Music & Video, Fashion\",\n",
              " 'Sushi Bars, Japanese, Restaurants',\n",
              " 'Arts & Entertainment, Performing Arts',\n",
              " 'Restaurants, Food, Waffles, Breakfast & Brunch, Coffee & Tea',\n",
              " 'Shopping, Books, Mags, Music & Video, Comic Books',\n",
              " 'Pets, Pet Training, Pet Stores, Pet Services, Pet Groomers',\n",
              " 'Food, Coffee & Tea, Bubble Tea',\n",
              " \"Women's Clothing, Fashion, Shopping, Jewelry, Accessories\",\n",
              " 'Coffee & Tea, Mexican, Restaurants, Food, Bakeries',\n",
              " 'Fitness & Instruction, Active Life, Hair Salons, Beauty & Spas, Day Spas, Pilates',\n",
              " 'Dry Cleaning & Laundry, Local Services, Dry Cleaning, Laundry Services',\n",
              " 'Nightlife, Music Venues, Vegetarian, Arts & Entertainment, Lounges, Restaurants, Mass Media, Print Media, Bars',\n",
              " 'Sporting Goods, Skate Shops, Shopping, Fashion, Outdoor Gear, Sports Wear',\n",
              " 'Eyewear & Opticians, Health & Medical, Optometrists, Shopping',\n",
              " 'Coffee & Tea, Sandwiches, Restaurants, Food, Coffee Roasteries',\n",
              " 'Fast Food, Delis, Salad, Sandwiches, Soup, Restaurants',\n",
              " 'American (Traditional), Restaurants, Burgers',\n",
              " 'Beauty & Spas, Barbers, Hair Salons',\n",
              " 'Skin Care, Beauty & Spas, Hair Removal, Hair Salons, Nail Salons',\n",
              " 'Health & Medical, Drugstores, Shopping, Food, Pharmacy, Grocery',\n",
              " 'Home Services, Water Purification Services',\n",
              " 'Event Planning & Services, Cafes, Food, Bakeries, Caterers, Desserts, Coffee & Tea, Restaurants, Sandwiches',\n",
              " 'Restaurants, Food, Brazilian, Buffets, Steakhouses',\n",
              " 'Landmarks & Historical Buildings, Event Planning & Services, Public Services & Government, Venues & Event Spaces, Local Flavor',\n",
              " 'Restaurants, Food Trucks, Food, American (New), Sandwiches',\n",
              " 'Restaurants, Meat Shops, Burgers, American (Traditional), Specialty Food, Food',\n",
              " 'Automotive, Auto Parts & Supplies',\n",
              " 'Food, Cupcakes, Event Planning & Services, Bakeries, Desserts, Custom Cakes, Caterers',\n",
              " 'Home Decor, Shopping, Home & Garden, Furniture Stores, Rugs',\n",
              " 'Oil Change Stations, Smog Check Stations, Automotive, Tires, Auto Parts & Supplies, Auto Repair',\n",
              " 'Shopping, Makeup Artists, Hair Salons, Bridal, Beauty & Spas',\n",
              " 'Cafes, Restaurants, Delis, Sandwiches',\n",
              " 'Flooring, Masonry/Concrete, Contractors, Local Services, Home Services, Machine & Tool Rental',\n",
              " 'Fitness & Instruction, Trainers, Tanning, Beauty & Spas, Active Life, Gyms',\n",
              " 'Pet Services, Horseback Riding, Active Life, Pet Sitting, Pets',\n",
              " 'Massage, Massage Therapy, Health & Medical, Accessories, Active Life, Fitness & Instruction, Beauty & Spas, Fashion, Yoga, Shopping',\n",
              " 'Dentists, Health & Medical, Cosmetic Dentists, Orthodontists, General Dentistry',\n",
              " 'Cafes, Coffee & Tea, Restaurants, Food',\n",
              " 'Health & Medical, Trainers, Martial Arts, Yoga, Fitness & Instruction, Active Life',\n",
              " 'Mexican, Restaurants',\n",
              " 'Cosmetics & Beauty Supply, Beauty & Spas, Skin Care, Shopping',\n",
              " 'Shopping, Fashion, Thrift Stores, Used, Vintage & Consignment',\n",
              " 'Pediatric Dentists, Cosmetic Dentists, General Dentistry, Dentists, Health & Medical',\n",
              " 'Specialty Food, Food, Ice Cream & Frozen Yogurt, Candy Stores, Coffee & Tea, Desserts',\n",
              " 'Shopping, Home & Garden, Vape Shops, Hydroponics, Nurseries & Gardening',\n",
              " 'Specialty Food, Desserts, Food, Ice Cream & Frozen Yogurt, Candy Stores',\n",
              " 'Home Services, Local Services, Wildlife Control, Pest Control, Landscaping, Irrigation',\n",
              " 'Health & Medical, Home Health Care',\n",
              " 'Health & Medical, Chiropractors',\n",
              " 'Pet Services, Pets, Pet Sitting, Pet Groomers, Pet Training',\n",
              " 'Health & Medical, Drugstores, Shopping',\n",
              " 'Shopping, Office Equipment',\n",
              " 'Health & Medical, Counseling & Mental Health',\n",
              " 'Bars, Food, Restaurants, Beer, Wine & Spirits, Nightlife, Italian, Wine Bars, Cocktail Bars',\n",
              " 'Nightlife, Pubs, Music Venues, Restaurants, American (Traditional), Bars, Karaoke, Arts & Entertainment, Sports Bars',\n",
              " 'Nail Salons, Beauty & Spas, Eyelash Service',\n",
              " 'Restaurants, Fast Food, Breakfast & Brunch, Tacos, Mexican, Tex-Mex',\n",
              " 'Chicken Wings, Restaurants, Italian, Pizza',\n",
              " 'Festivals, Local Flavor, Food, Arts & Entertainment',\n",
              " 'Eyelash Service, Beauty & Spas, Hair Removal, Waxing, Skin Care',\n",
              " 'Food, Beer Bar, Bars, Breweries, Italian, Venues & Event Spaces, Event Planning & Services, Pizza, Restaurants, Brewpubs, Nightlife',\n",
              " 'Active Life, Fitness & Instruction, Gyms, Trainers, Health & Medical, Nutritionists, Weight Loss Centers, Interval Training Gyms',\n",
              " 'Shopping, Swimwear, Fashion',\n",
              " 'Bars, Lounges, Arts & Entertainment, Music Venues, Nightlife',\n",
              " 'Shopping, Supernatural Readings, Spiritual Shop, Arts & Entertainment, Candle Stores, Home & Garden, Beauty & Spas, Religious Items, Cosmetics & Beauty Supply',\n",
              " 'Tex-Mex, Restaurants, Tacos, Nightlife, Bars, Mexican',\n",
              " 'Chinese, Restaurants, Fast Food',\n",
              " 'Fitness & Instruction, Beauty & Spas, Trainers, Active Life, Skin Care',\n",
              " 'Obstetricians & Gynecologists, Health & Medical, Doctors',\n",
              " 'Comfort Food, Food, Italian, Food Trucks, Burgers, Restaurants',\n",
              " 'Massage, Beauty & Spas, Cosmetics & Beauty Supply, Health & Medical, Reflexology, Massage Therapy, Shopping',\n",
              " \"Fashion, Kitchen & Bath, Home Decor, Home & Garden, Kitchen Supplies, Candle Stores, Shopping, Women's Clothing, Accessories, Shopping Centers, Furniture Stores\",\n",
              " 'Coffee & Tea Supplies, Food, Cafes, Coffee Roasteries, Coffee & Tea, Restaurants',\n",
              " 'Shopping, Local Services, Office Equipment, Engraving',\n",
              " 'Home Services, Real Estate Services, Real Estate, Home Staging, Property Management',\n",
              " \"Fashion, Shopping, Women's Clothing, Children's Clothing\",\n",
              " 'Parks, Active Life, Dog Parks, Playgrounds',\n",
              " 'Massage, Hair Removal, Day Spas, Hair Salons, Beauty & Spas',\n",
              " 'Restaurants, Italian',\n",
              " 'Bars, Sports Bars, Nightlife, Vegetarian, American (Traditional), Restaurants',\n",
              " 'Event Planning & Services, Arts & Entertainment, Festivals, Local Flavor, Food',\n",
              " 'Active Life, Yoga, Fitness & Instruction',\n",
              " 'Furniture Stores, Shopping, Home & Garden',\n",
              " 'Eyelash Service, Waxing, Hair Removal, Beauty & Spas, Nail Salons',\n",
              " 'Food, Restaurants, Bakeries',\n",
              " 'Plumbing, Septic Services, Local Services, Home Services, Water Heater Installation/Repair',\n",
              " 'Banks & Credit Unions, Financial Services, Real Estate, Mortgage Brokers, Home Services, Mortgage Lenders',\n",
              " 'Local Services, Bikes, Bike Repair/Maintenance, Shopping, Sporting Goods',\n",
              " 'Wine Bars, Restaurants, Bars, Nightlife, Specialty Food, Desserts, Food, Tapas Bars',\n",
              " 'Hotels & Travel, Event Planning & Services, Hotels',\n",
              " 'Himalayan/Nepalese, Restaurants, Indian, Chinese',\n",
              " 'Juice Bars & Smoothies, Restaurants, Shaved Ice, Food Stands, Food, Food Trucks, Mexican',\n",
              " 'Beauty & Spas, Laser Hair Removal, Medical Spas, Doctors, Cosmetic Surgeons, Skin Care, Plastic Surgeons, Hair Removal, Health & Medical',\n",
              " \"Shopping, Men's Clothing, Fashion, Accessories, Women's Clothing\",\n",
              " 'Cocktail Bars, Restaurants, Bars, African, Nightlife',\n",
              " 'Pet Services, Acupuncture, Pets, Health & Medical, Veterinarians',\n",
              " 'Event Planning & Services, Hotels, Hotels & Travel',\n",
              " 'Japanese, Restaurants, Sushi Bars',\n",
              " 'Professional Services, Lighting Fixtures & Equipment, Electronics, Home Theatre Installation, Shopping, Home Services',\n",
              " 'Asian Fusion, Chinese, Restaurants',\n",
              " 'Packing Supplies, Shopping, Local Services, Professional Services, Self Storage, Home Services, Movers',\n",
              " 'Professional Services, Contractors, Home Services, Business Consulting, Home & Garden, Cabinetry, Interior Design, Building Supplies, Shopping, Countertop Installation, Fireplace Services, Kitchen & Bath',\n",
              " 'Automotive, Auto Glass Services, Home Services, Window Washing',\n",
              " 'Insurance, Financial Services, Home & Rental Insurance, Auto Insurance',\n",
              " 'Sports Wear, Fashion, Sporting Goods, Shopping, Shoe Stores',\n",
              " 'Local Services, Windows Installation, Contractors, Metal Fabricators, Home Services',\n",
              " 'Hair Removal, Skin Care, Beauty & Spas',\n",
              " 'Burgers, Restaurants',\n",
              " 'Gyms, Active Life, Fitness & Instruction',\n",
              " 'Home Decor, Mattresses, Home & Garden, Furniture Stores, Shopping',\n",
              " 'Restaurants, Fast Food, Food, Barbeque',\n",
              " \"Accessories, Leather Goods, Fashion, Shopping, Shoe Stores, Women's Clothing\",\n",
              " 'Laundry Services, Dry Cleaning, Dry Cleaning & Laundry, Sewing & Alterations, Local Services',\n",
              " 'Furniture Reupholstery, Local Services, Shopping, Furniture Repair, Antiques',\n",
              " \"Accessories, Professional Services, Sewing & Alterations, Shopping, Local Services, Women's Clothing, Fashion\",\n",
              " 'Gluten-Free, Salad, Pizza, Restaurants',\n",
              " 'American (Traditional), Lounges, Bars, Restaurants, Nightlife',\n",
              " 'Restaurants, Mediterranean',\n",
              " 'Automotive, Car Wash',\n",
              " 'Fruits & Veggies, Specialty Food, Seafood Markets, Food, International Grocery',\n",
              " 'Japanese, Restaurants, Specialty Food, Thai, Food, Sushi Bars',\n",
              " 'Restaurants, Food, Japanese, Sushi Bars, Seafood',\n",
              " 'Food, Restaurants, Middle Eastern, Mediterranean',\n",
              " 'Banks & Credit Unions, Financial Advising, Financial Services, Investing',\n",
              " 'Mattresses, Furniture Stores, Home & Garden, Shopping, Home Decor',\n",
              " 'Health & Medical, General Dentistry, Cosmetic Dentists, Dentists, Orthodontists, Endodontists',\n",
              " 'Restaurants, Vietnamese',\n",
              " 'Arts & Entertainment, Cinema',\n",
              " 'Shopping, Discount Store, Antiques, Building Supplies, Community Service/Non-Profit, Home Services, Appliances, Furniture Stores, Local Services, Home & Garden, Thrift Stores',\n",
              " 'Mediterranean, Middle Eastern, Restaurants, Turkish',\n",
              " 'Department Stores, Fashion, Shopping',\n",
              " 'Specialty Food, Ethnic Food, Restaurants, Sushi Bars, Food, Food Delivery Services, Seafood, Japanese',\n",
              " 'Chiropractors, Fitness & Instruction, Active Life, Yoga, Health & Medical, Nutritionists',\n",
              " 'Chicken Wings, Restaurants, Fast Food, American (Traditional)',\n",
              " 'Television Service Providers, Professional Services, Home Services, Internet Service Providers',\n",
              " 'Restaurants, Cafes',\n",
              " 'Nanny Services, Professional Services, Local Services',\n",
              " 'Doctors, Physical Therapy, Health & Medical, Sports Medicine',\n",
              " 'Food, Restaurants, Mexican, Fast Food',\n",
              " 'Nightlife, Wine Tasting Room, Food, Bars, Cocktail Bars, Wineries, Arts & Entertainment, Lounges',\n",
              " 'Bars, Nightlife, French, Vegetarian, Modern European, Restaurants, Food, Austrian',\n",
              " 'Jewelry, Shopping',\n",
              " \"Beauty & Spas, Hair Stylists, Barbers, Hair Salons, Men's Hair Salons\",\n",
              " 'Restaurants, Sandwiches, Custom Cakes, Cafes, Food, Bakeries',\n",
              " 'Education, Child Care & Day Care, Preschools, Local Services',\n",
              " 'Seafood Markets, Food, Specialty Food',\n",
              " 'Donuts, Food, Coffee & Tea, Restaurants',\n",
              " 'Restaurants, Nightlife, American (New), Bars, Gastropubs',\n",
              " 'Auto Parts & Supplies, Tires, Automotive, Oil Change Stations',\n",
              " 'Home Services, Real Estate, Apartments',\n",
              " 'Restaurants, Korean',\n",
              " 'Health & Medical, Internal Medicine, Trainers, Doctors, Active Life, Fitness & Instruction',\n",
              " 'Hotels & Travel, Limos, Town Car Service, Transportation, Airport Shuttles',\n",
              " 'Steakhouses, Restaurants',\n",
              " 'Seafood, Cajun/Creole, Asian Fusion, Restaurants',\n",
              " 'Keys & Locksmiths, Home Services',\n",
              " 'Cafes, American (Traditional), Restaurants',\n",
              " 'Pet Sitting, Pet Services, Pets',\n",
              " 'Bars, Jazz & Blues, Arts & Entertainment, Nightlife, Music Venues',\n",
              " 'Car Brokers, Automotive, Used Car Dealers, Car Dealers',\n",
              " 'Landscape Architects, Shopping, Home Decor, Home Services, Masonry/Concrete, Contractors, Tree Services, Home & Garden, Landscaping, Lawn Services',\n",
              " 'Counseling & Mental Health, Health & Medical, Psychologists',\n",
              " 'Mobile Phones, Mobile Phone Repair, Pawn Shops, IT Services & Computer Repair, Recycling Center, Shopping, Electronics Repair, Videos & Video Game Rental, Local Services, Electronics, Books, Mags, Music & Video, Video Game Stores',\n",
              " 'Beauty & Spas, Tanning',\n",
              " 'Food, Shopping, Gift Shops, Grocery, Health & Medical, Florists, Pharmacy, Drugstores, Flowers & Gifts',\n",
              " 'Skin Care, Hair Removal, Beauty & Spas',\n",
              " 'Breakfast & Brunch, Sandwiches, Restaurants, Food, American (Traditional), Coffee & Tea',\n",
              " 'Bike Rentals, Hotels & Travel, Active Life, Transportation, Bike Sharing',\n",
              " 'Food, Beer, Wine & Spirits',\n",
              " None,\n",
              " 'American (Traditional), Restaurants',\n",
              " 'Florists, Wedding Planning, Flowers & Gifts, Event Planning & Services, Shopping',\n",
              " 'Financial Services, Financial Advising, Bankruptcy Law, Lawyers, Professional Services',\n",
              " 'Hair Salons, Beauty & Spas, Skin Care',\n",
              " 'Dentists, Health & Medical',\n",
              " 'Breakfast & Brunch, Mexican, Fast Food, Salad, Restaurants',\n",
              " 'Restaurants, Burgers, Gluten-Free, American (Traditional)',\n",
              " 'Poke, Food, Restaurants, Hawaiian, Burgers, Asian Fusion',\n",
              " 'Security Systems, Home Services, Professional Services',\n",
              " 'Restaurants, Mexican, Barbeque, Food, Tacos, Food Trucks',\n",
              " 'Bars, Music Venues, Nightlife, Pubs, Arts & Entertainment, Restaurants',\n",
              " 'Food, Shopping, Drugstores, Grocery',\n",
              " 'German, Restaurants, Bars, Modern European, Nightlife',\n",
              " 'Car Rental, Hotels & Travel, Automotive, Auto Repair, Body Shops, Car Dealers, Auto Parts & Supplies',\n",
              " 'Desserts, Bubble Tea, Food, Coffee & Tea',\n",
              " 'Child Care & Day Care, Education, Preschools, Local Services, Elementary Schools',\n",
              " 'Hotels & Travel, Transportation',\n",
              " 'Plumbing, Home Services',\n",
              " 'Damage Restoration, Home Services, Painters',\n",
              " 'Active Life, Amusement Parks',\n",
              " 'Health & Medical, Dentists, Oral Surgeons, General Dentistry, Orthodontists, Periodontists, Cosmetic Dentists, Pediatric Dentists',\n",
              " 'Bars, Breweries, Food, Brewpubs, Pubs, Nightlife',\n",
              " 'Fashion, Accessories, Shopping, Shoe Stores',\n",
              " 'Sporting Goods, Skate Shops, Active Life, Private Tutors, Education, Skating Rinks, Shopping, Specialty Schools',\n",
              " 'Whiskey Bars, Nightlife, American (Traditional), Bars, Pubs, Restaurants',\n",
              " 'Restaurants, Food Trucks, Food, Mexican',\n",
              " 'Dentists, General Dentistry, Health & Medical, Cosmetic Dentists, Pediatric Dentists',\n",
              " 'Tobacco Shops, Beer, Wine & Spirits, Shopping, Food',\n",
              " 'Beer, Wine & Spirits, Breweries, Gastropubs, American (New), American (Traditional), Pubs, Food, Restaurants, Nightlife, Bars',\n",
              " 'Beauty & Spas, Hair Stylists, Day Spas, Skin Care, Hair Salons',\n",
              " 'Burgers, Fast Food, Restaurants',\n",
              " 'Cocktail Bars, Restaurants, American (New), Salad, Nightlife, Bars, Sandwiches',\n",
              " 'Beauty & Spas, Spray Tanning, Cosmetics & Beauty Supply, Shopping, Tanning',\n",
              " 'Preschools, Elementary Schools, Education, Child Care & Day Care, Local Services',\n",
              " 'Beauty & Spas, Massage',\n",
              " 'Food, Bakeries, Health & Medical, Grocery, Pharmacy',\n",
              " 'Transportation, Hotels & Travel, Limos, Airport Shuttles',\n",
              " 'Amusement Parks, Active Life',\n",
              " 'Traditional Chinese Medicine, Acupuncture, Health & Medical',\n",
              " 'Specialty Schools, Shopping, Art Classes, Art Supplies, Arts & Entertainment, Education, Arts & Crafts, Art Schools, Art Galleries, Event Planning & Services, Gift Shops, Party & Event Planning, Flowers & Gifts',\n",
              " 'Medical Centers, Health & Medical',\n",
              " 'Hotels, Event Planning & Services, Restaurants, Cafes, Nightlife, Hotels & Travel, Bars',\n",
              " 'Coffee & Tea, Food, Bars, Nightlife, Italian, Arts & Entertainment, Restaurants, Music Venues, Wine Bars',\n",
              " 'Real Estate, Real Estate Services, Home Services',\n",
              " 'IT Services & Computer Repair, Local Services',\n",
              " 'Local Services, Shopping, Musical Instrument Services, Musical Instruments & Teachers',\n",
              " 'Tutoring Centers, Education, Educational Services, Test Preparation',\n",
              " 'Nail Salons, Waxing, Beauty & Spas, Skin Care, Eyelash Service, Hair Removal',\n",
              " 'American (New), Food, Breakfast & Brunch, Diners, American (Traditional), Burgers, Fast Food, Restaurants, Ice Cream & Frozen Yogurt',\n",
              " 'Restaurants, Bars, Irish Pub, Food, Pubs, American (Traditional), Nightlife, Irish',\n",
              " 'Poke, Food',\n",
              " 'Buffets, Restaurants, American (New), Steakhouses',\n",
              " 'Guns & Ammo, Shopping',\n",
              " 'Nail Salons, Beauty & Spas, Hair Salons',\n",
              " 'Photographers, Event Planning & Services',\n",
              " 'Beauty & Spas, Massage Therapy, Health & Medical, Reflexology, Day Spas',\n",
              " 'Active Life, Fitness & Instruction, Trainers, Local Flavor, Specialty Food, Health & Medical, Physical Therapy, Yoga, Gyms, Health Markets, Food',\n",
              " 'Soul Food, Cocktail Bars, Bars, Nightlife, Restaurants, Southern',\n",
              " 'Burgers, Barbeque, Restaurants, Caribbean',\n",
              " 'Local Services, Photography Stores & Services, Shopping, Printing Services',\n",
              " 'Asian Fusion, Japanese, Sushi Bars, Restaurants',\n",
              " 'Education, Colleges & Universities',\n",
              " 'Home & Garden, Mattresses, Shopping, Furniture Stores',\n",
              " 'Dentists, Cosmetic Dentists, Health & Medical, Endodontists, General Dentistry',\n",
              " 'General Dentistry, Health & Medical, Cosmetic Dentists, Periodontists, Dentists',\n",
              " 'Wine Bars, Bars, Lounges, Nightlife',\n",
              " 'Home Services, Plumbing, Water Heater Installation/Repair, Professional Services, Heating & Air Conditioning/HVAC',\n",
              " 'Shopping, Toy Stores',\n",
              " 'Shopping, Screen Printing, Screen Printing/T-Shirt Printing, Local Services, Embroidery & Crochet, Arts & Crafts',\n",
              " 'Shopping, Bikes, Sporting Goods',\n",
              " 'Dry Cleaning, Dry Cleaning & Laundry, Laundry Services, Local Services',\n",
              " 'Fast Food, Restaurants, Chinese',\n",
              " 'Skin Care, Beauty & Spas, Nail Salons, Massage',\n",
              " 'Restaurants, Brazilian',\n",
              " 'Naturopathic/Holistic, Doctors, Counseling & Mental Health, Massage Therapy, Health & Medical, Chiropractors, Acupuncture',\n",
              " \"Beauty & Spas, Women's Clothing, Shopping, Barbers, Men's Clothing, Fashion\",\n",
              " 'Cafes, Restaurants, Lounges, Nightlife, Food, Coffee & Tea, Bars',\n",
              " 'Coffee & Tea, Desserts, Food, Bubble Tea',\n",
              " 'Department Stores, Cards & Stationery, Pets, Event Planning & Services, Home & Garden, Shopping, Arts & Crafts, Gift Shops, Candle Stores, Pet Stores, Flowers & Gifts, Fashion',\n",
              " 'Sports Bars, Breweries, Nightlife, Pubs, Food, Bars',\n",
              " 'Automotive, Towing, Auto Repair',\n",
              " \"Fashion, Men's Clothing, Women's Clothing, Shopping, Local Services, Screen Printing/T-Shirt Printing\",\n",
              " 'Special Education, Art Schools, Summer Camps, Arts & Entertainment, Local Services, Active Life, Shopping, Specialty Schools, Sewing & Alterations, Arts & Crafts, Education',\n",
              " 'Massage Therapy, Health & Medical, Doulas, Massage, Reiki, Life Coach, Active Life, Professional Services, Beauty & Spas, Yoga, Fitness & Instruction',\n",
              " 'Dentists, General Dentistry, Cosmetic Dentists, Health & Medical',\n",
              " 'Nightlife, Local Flavor, Restaurants, Music Venues, Pubs, Bars, Arts & Entertainment, Korean',\n",
              " 'Eyewear & Opticians, Optometrists, Health & Medical, Shopping',\n",
              " 'Shopping, Hunting & Fishing Supplies, Sporting Goods, Outdoor Gear, Active Life, Fishing',\n",
              " 'Lebanese, Nightlife, Restaurants, Bars, Mediterranean, Middle Eastern',\n",
              " 'Landscaping, Home Services',\n",
              " \"Shopping, Accessories, Fashion, Women's Clothing\",\n",
              " 'Local Services, Summer Camps, Community Centers, Education, Gyms, Child Care & Day Care, Public Services & Government, Active Life, Preschools, Fitness & Instruction',\n",
              " 'Tai Chi, Yoga, Active Life, Fitness & Instruction',\n",
              " 'Restaurants, Vegan, Pizza, Gluten-Free',\n",
              " 'Health & Medical, Cosmetic Dentists, Orthodontists, General Dentistry, Dentists',\n",
              " 'Food, Beer Gardens, Nightlife, Breweries',\n",
              " 'Real Estate, Real Estate Agents, Home Services',\n",
              " 'Restaurants, Food, Chinese, Bakeries',\n",
              " 'Local Services, Child Care & Day Care',\n",
              " 'Desserts, Ice Cream & Frozen Yogurt, Food, Food Trucks',\n",
              " 'Pet Services, Pets, Dog Walkers, Pet Training, Pet Groomers, Pet Sitting',\n",
              " 'Dry Cleaning & Laundry, Local Services, Laundry Services',\n",
              " 'Races & Competitions, Fitness & Instruction, Active Life',\n",
              " 'Shopping, Eyewear & Opticians, Optometrists, Health & Medical',\n",
              " 'Automotive, Auto Repair, Auto Detailing, Car Wash',\n",
              " 'Tattoo, Beauty & Spas',\n",
              " 'Hair Removal, Hair Salons, Skin Care, Beauty & Spas',\n",
              " 'Car Dealers, Automotive, Auto Repair, Auto Parts & Supplies, Used Car Dealers',\n",
              " 'Fitness & Instruction, Trainers, Health & Medical, Weight Loss Centers, Gyms, Physical Therapy, Massage Therapy, Active Life',\n",
              " 'Tree Services, Home Services, Landscaping',\n",
              " 'Shopping, Thrift Stores',\n",
              " 'Event Planning & Services, Commercial Real Estate, Property Management, Professional Services, Real Estate Services, Real Estate, Home Services, Venues & Event Spaces, Shared Office Spaces',\n",
              " 'Health & Medical, Obstetricians & Gynecologists, Doctors',\n",
              " 'Home Services, Masonry/Concrete',\n",
              " 'Asian Fusion, Mediterranean, Comfort Food, American (Traditional), Italian, Noodles, Restaurants',\n",
              " 'Shopping, Local Services, Education, Guns & Ammo, Specialty Schools, Firearm Training, Gunsmith',\n",
              " 'Makeup Artists, Beauty & Spas, Hair Salons',\n",
              " 'Hair Removal, Waxing, Skin Care, Massage, Makeup Artists, Eyelash Service, Nail Salons, Beauty & Spas',\n",
              " 'Videos & Video Game Rental, Music & DVDs, Arts & Entertainment, Shopping, Books, Mags, Music & Video',\n",
              " 'Nail Technicians, Nail Salons, Beauty & Spas',\n",
              " 'Yoga, Fitness & Instruction, Active Life',\n",
              " 'Hotels & Travel, Transportation, Taxis, Airport Shuttles',\n",
              " 'Keys & Locksmiths, Home Services, Local Services, Building Supplies',\n",
              " 'Piercing, Professional Services, Tattoo, Shopping, Art Galleries, Beauty & Spas, Arts & Entertainment',\n",
              " 'Restaurants, Sandwiches, Food, Delis, Flowers & Gifts, Grocery, Shopping, Florists',\n",
              " 'Acupuncture, Massage Therapy, Traditional Chinese Medicine, Health & Medical',\n",
              " 'Arts & Entertainment, Amusement Parks, Active Life',\n",
              " 'Business Law, Lawyers, Professional Services, Estate Planning Law, Real Estate Law',\n",
              " 'Local Services, Pressure Washers, Fences & Gates, Gutter Services, Lawn Services, Junk Removal & Hauling, Landscaping, Home Services',\n",
              " 'Food, Food Delivery Services, Desserts, Ice Cream & Frozen Yogurt, Bakeries',\n",
              " 'Restaurants, Salad, Sandwiches, Soup',\n",
              " 'Roofing, Home Services, Handyman, Siding, Gutter Services, Contractors',\n",
              " 'Food, Chocolatiers & Shops, Candy Stores, Ice Cream & Frozen Yogurt, Specialty Food, Desserts',\n",
              " 'Food, Farmers Market',\n",
              " 'Sewing & Alterations, Local Services',\n",
              " 'Restaurants, Pubs, American (Traditional), Nightlife, Bars',\n",
              " 'Canadian (New), Food, Beer, Wine & Spirits, Gastropubs, Burgers, American (Traditional), Restaurants',\n",
              " 'Restaurants, Mediterranean, Halal, Middle Eastern',\n",
              " 'Beauty & Spas, Nail Technicians, Nail Salons',\n",
              " 'Restaurants, Food Trucks, Middle Eastern, Lebanese, Street Vendors, Food',\n",
              " 'Beauty & Spas, Gyms, Trainers, Active Life, Fitness & Instruction, Day Spas',\n",
              " 'Public Services & Government, Departments of Motor Vehicles',\n",
              " 'Chiropractors, Massage Therapy, Health & Medical',\n",
              " \"Hair Stylists, Makeup Artists, Massage, Men's Hair Salons, Hair Extensions, Beauty & Spas, Hair Removal, Waxing, Cosmetics & Beauty Supply, Blow Dry/Out Services, Shopping, Hair Salons\",\n",
              " 'Japanese, Restaurants, Sushi Bars, Steakhouses, Tapas/Small Plates',\n",
              " 'Home Services, Tree Services',\n",
              " 'Mass Media, Radio Stations',\n",
              " 'Massage, Yoga, Massage Therapy, Health & Medical, Fitness & Instruction, Active Life, Beauty & Spas',\n",
              " 'Coffee & Tea, Food, Coffee Roasteries',\n",
              " 'Cosmetic Surgeons, Skin Care, Doctors, Dermatologists, Beauty & Spas, Health & Medical',\n",
              " 'Beer, Wine & Spirits, Bars, Music Venues, Arts & Entertainment, Wine Bars, Nightlife, Food',\n",
              " 'Eyelash Service, Massage, Hair Removal, Beauty & Spas, Day Spas, Laser Hair Removal, Skin Care',\n",
              " 'Food, Coffee & Tea, Donuts',\n",
              " 'Caterers, Barbeque, Restaurants, Event Planning & Services, Southern',\n",
              " 'Car Dealers, Auto Parts & Supplies, Auto Repair, Automotive',\n",
              " 'Health & Medical, Massage Therapy, Massage, Beauty & Spas',\n",
              " 'Bars, Nightlife, Adult Entertainment',\n",
              " 'Health & Medical, Dentists, Cosmetic Dentists, General Dentistry',\n",
              " 'Pizza, Italian, Salad, Restaurants',\n",
              " 'Nutritionists, Active Life, Health & Medical, Fitness & Instruction, Vitamins & Supplements, Food, Health Coach, Weight Loss Centers, Juice Bars & Smoothies, Restaurants, Breakfast & Brunch, Shopping',\n",
              " 'Restaurants, Breakfast & Brunch, Sandwiches, American (Traditional), Diners',\n",
              " 'Desserts, Food, American (New), Restaurants, Bakeries, Breakfast & Brunch',\n",
              " 'American (New), Diners, American (Traditional), Breakfast & Brunch, Restaurants, Comfort Food, Desserts, Food, Burgers',\n",
              " 'Tacos, Mexican, Restaurants',\n",
              " 'Active Life, Swimming Lessons/Schools, Diving, Education, Specialty Schools, Fitness & Instruction',\n",
              " 'Local Services, Tax Services, Professional Services, Accountants, Notaries, Financial Services',\n",
              " 'Restaurants, Japanese, Sushi Bars',\n",
              " 'Coffee & Tea, Food, Donuts',\n",
              " 'Fast Food, Restaurants, Sandwiches',\n",
              " 'Periodontists, Dentists, Cosmetic Dentists, Health & Medical',\n",
              " 'Restaurants, Halal, Caterers, Vegetarian, Indian, Event Planning & Services',\n",
              " 'Electricians, Solar Installation, Home Services, Contractors',\n",
              " 'Restaurants, French, Cafes',\n",
              " 'Car Dealers, Hotels & Travel, Automotive, Auto Repair, Car Rental',\n",
              " 'Photographers, Session Photography, Event Planning & Services, Event Photography',\n",
              " 'Pizza, Food, Salad, Restaurants, Caterers, Food Delivery Services, Sandwiches, Event Planning & Services',\n",
              " 'Chinese, Vietnamese, Restaurants, Asian Fusion, Thai',\n",
              " 'Drugstores, Shopping',\n",
              " 'Restaurants, Delis, Sandwiches',\n",
              " 'Psychologists, Health & Medical, Counseling & Mental Health',\n",
              " 'Beer Bar, Bars, Nightlife, Cocktail Bars',\n",
              " 'American (Traditional), Pizza, Restaurants, American (New)',\n",
              " 'Mediterranean, Food, Bars, Vegetarian, Food Trucks, Gluten-Free, Nightlife, Middle Eastern, Restaurants',\n",
              " 'Arts & Entertainment, Real Estate Services, Home Services, Art Galleries, Shopping, Real Estate',\n",
              " 'Food, Bakeries, Restaurants',\n",
              " 'IT Services & Computer Repair, Mobile Phone Repair, Electronics Repair, Local Services',\n",
              " 'Event Planning & Services, Wedding Planning, Caterers',\n",
              " 'Tex-Mex, Street Vendors, Restaurants, Food, Mexican',\n",
              " 'Tires, Body Shops, Auto Repair, Windshield Installation & Repair, Automotive, Auto Parts & Supplies',\n",
              " 'Restaurants, Wine Bars, Bars, Italian, Pizza, Nightlife',\n",
              " 'Restaurants, American (New), Sandwiches, Bars, Food, Nightlife, Event Planning & Services, Beer, Wine & Spirits, Venues & Event Spaces, Pubs',\n",
              " 'Hotels & Travel, Nightlife, Food, Bars, Beer Bar, Breweries, Tours, Beer Tours',\n",
              " 'Interval Training Gyms, Trainers, Boot Camps, Gyms, Fitness & Instruction, Active Life',\n",
              " 'Local Services, Mobile Phone Repair, IT Services & Computer Repair, Shopping, Shipping Centers, Office Equipment, Printing Services',\n",
              " 'Arts & Crafts, Framing, Shopping',\n",
              " 'Restaurants, Mexican, Fast Food',\n",
              " 'Tapas Bars, Restaurants',\n",
              " \"Fashion, Shopping, Sports Wear, Women's Clothing, Accessories, Sporting Goods, Lingerie\",\n",
              " 'Marketing, Venues & Event Spaces, Shopping Centers, Bed & Breakfast, Hotels, Shopping, Hotels & Travel, Professional Services, Event Planning & Services',\n",
              " 'Doctors, Health & Medical, Internal Medicine, Family Practice',\n",
              " 'Italian, Chicken Wings, Restaurants, Pizza',\n",
              " 'French, Food, Desserts, Creperies, Restaurants',\n",
              " 'Massage, Beauty & Spas, Hair Salons',\n",
              " 'Food, Ethnic Food, Specialty Food, Latin American, Restaurants',\n",
              " 'Home Services, Pool & Hot Tub Service, Pool Cleaners, Home & Garden, Hot Tub & Pool, Shopping, Contractors',\n",
              " 'Junk Removal & Hauling, Recycling Center, Local Services',\n",
              " 'Parks, Active Life',\n",
              " 'Nightlife, Bars, Restaurants, American (Traditional)',\n",
              " 'Arts & Crafts, Fabric Stores, Shopping, Jewelry, Framing, Hobby Shops, Art Supplies',\n",
              " 'Private Tutors, Education, Wedding Planning, Event Planning & Services, Specialty Schools, Team Building Activities, Party & Event Planning, DJs',\n",
              " 'Bikes, Active Life, Bike Repair/Maintenance, Bike Rentals, Sporting Goods, Shopping, Local Services',\n",
              " 'Hardware Stores, Home & Garden, Shopping, Paint Stores, Nurseries & Gardening',\n",
              " 'Doctors, Urologists, Health & Medical, Surgeons',\n",
              " 'Nightlife, Sandwiches, Pizza, Bars, Restaurants',\n",
              " 'Landmarks & Historical Buildings, Public Services & Government',\n",
              " 'Beauty & Spas, Tanning, Hair Stylists, Hair Extensions, Hair Salons, Makeup Artists',\n",
              " 'Grocery, Food',\n",
              " 'American (Traditional), Venues & Event Spaces, American (New), Event Planning & Services, Nightlife, Restaurants, Bars, Sports Bars',\n",
              " 'IT Services & Computer Repair, Local Services, Data Recovery, Computers, Mobile Phone Repair, Shopping',\n",
              " 'Filipino, Restaurants',\n",
              " 'Cafes, Tea Rooms, Coffee & Tea, Food, Restaurants',\n",
              " 'Nail Salons, Waxing, Beauty & Spas, Hair Removal, Eyelash Service',\n",
              " 'Waxing, Beauty & Spas, Hair Removal, Nail Salons, Skin Care',\n",
              " 'Bikes, Sporting Goods, Automotive, Motorcycle Gear, Motorcycle Repair, Shopping, Social Clubs, Motorcycle Dealers, Arts & Entertainment',\n",
              " 'Firewood, Home Services',\n",
              " 'Trainers, Active Life, Gyms, Fitness & Instruction, Boot Camps',\n",
              " 'Arts & Entertainment, Venues & Event Spaces, Event Planning & Services, Cinema',\n",
              " 'American (New), Nightlife, Restaurants, Burgers, Bars, Cocktail Bars',\n",
              " 'Hair Salons, Beauty & Spas, Barbers',\n",
              " 'Arts & Entertainment, Education, Art Classes, Paint & Sip',\n",
              " 'Party & Event Planning, Arts & Entertainment, Boat Tours, Wine Tours, Active Life, Boating, Hotels & Travel, Nightlife, Boat Charters, Tours, Event Planning & Services, Music Venues',\n",
              " 'Day Spas, Beauty & Spas, Medical Spas, Health & Medical',\n",
              " 'Landscaping, Irrigation, Contractors, Home Services, Local Services',\n",
              " 'Window Washing, Home Cleaning, Local Services, Office Cleaning, Professional Services, Home Services, Carpet Cleaning',\n",
              " 'Acupuncture, Health & Medical',\n",
              " 'Home Services, Home Cleaning, Office Cleaning, Professional Services',\n",
              " 'Coffee & Tea, Food, Desserts, Bakeries',\n",
              " 'Shared Office Spaces, Home Services, Real Estate',\n",
              " 'Food, Donuts, Coffee & Tea',\n",
              " 'Dentists, Health & Medical, Oral Surgeons, General Dentistry',\n",
              " 'Food Trucks, Food, Restaurants, Mexican',\n",
              " 'Restaurants, Food Stands, Mexican',\n",
              " 'Restaurants, American (Traditional), American (New), Sandwiches, Burgers',\n",
              " 'Landmarks & Historical Buildings, Local Flavor, Italian, Public Services & Government, Restaurants',\n",
              " \"Fashion, Shopping, Women's Clothing\",\n",
              " 'Auto Parts & Supplies, RV Dealers, Auto Repair, Automotive',\n",
              " 'Body Shops, Automotive, Auto Repair, Auto Detailing',\n",
              " \"Gift Shops, Shopping, Fashion, Flowers & Gifts, Children's Clothing, Accessories\",\n",
              " 'Shopping, Beauty & Spas, Cosmetics & Beauty Supply',\n",
              " 'Hotels, Venues & Event Spaces, Hotels & Travel, Resorts, Event Planning & Services',\n",
              " 'Local Services, Self Storage',\n",
              " 'Nail Salons, Eyelash Service, Hair Removal, Beauty & Spas, Waxing',\n",
              " 'Chinese, Restaurants, Food',\n",
              " 'Food Delivery Services, Restaurants, Chicken Wings, Pizza, Food, Italian',\n",
              " 'Cosmetic Dentists, Dentists, General Dentistry, Health & Medical',\n",
              " 'Food Delivery Services, Gluten-Free, Food, Himalayan/Nepalese, Chinese, Nightlife, Wine Bars, Restaurants, Japanese, Bars, Desserts, Indian, Asian Fusion, Vegetarian',\n",
              " 'Food, American (New), Internet Cafes, Bars, Restaurants, Nightlife, Breakfast & Brunch, Coffee & Tea, Cocktail Bars',\n",
              " 'Burgers, Food Delivery Services, Restaurants, Food',\n",
              " 'Mailbox Centers, Shipping Centers, Notaries, Printing Services, Local Services',\n",
              " 'Hotels & Travel, Hotels, Event Planning & Services',\n",
              " 'Food, Bakeries',\n",
              " 'Sporting Goods, Bikes, Sports Wear, Shopping, Outdoor Gear, Fashion',\n",
              " 'Flowers & Gifts, Shopping',\n",
              " 'Animal Shelters, Pet Stores, Pets',\n",
              " 'Restaurants, Food Stands, Kebab, Persian/Iranian, Fast Food',\n",
              " 'Delis, Sandwiches, Food, Burgers, Restaurants',\n",
              " 'Auto Parts & Supplies, Automotive',\n",
              " 'Lounges, Bars, Canadian (New), Restaurants, International, Nightlife, American (New)',\n",
              " \"Accessories, Women's Clothing, Shopping, Fashion\",\n",
              " 'Nutritionists, Health & Medical, Doctors, Fertility, Dietitians',\n",
              " 'Masonry/Concrete, Patio Coverings, Decks & Railing, Landscape Architects, Contractors, Roofing, Home Services',\n",
              " 'Japanese, Sushi Bars, Chinese, Restaurants',\n",
              " 'Flowers & Gifts, Event Planning & Services, Floral Designers, Florists, Shopping, Gift Shops',\n",
              " 'Beauty & Spas, Tattoo',\n",
              " 'Restaurants, Ramen, Japanese',\n",
              " 'Florists, Flowers & Gifts, Shopping',\n",
              " 'Event Planning & Services, Active Life, Arcades, Amusement Parks, Bowling, Arts & Entertainment, Party & Event Planning, Recreation Centers, Party Supplies',\n",
              " 'Vietnamese, Pizza, Restaurants',\n",
              " 'Automotive, Towing',\n",
              " 'Psychiatrists, Health & Medical, Rehabilitation Center, Counseling & Mental Health, Hospitals, Doctors',\n",
              " 'Property Management, Real Estate, Home Services',\n",
              " 'Food, Health Markets, Specialty Food, Ice Cream & Frozen Yogurt, Desserts',\n",
              " 'Food, Gas Stations, Convenience Stores, Automotive',\n",
              " 'Caribbean, Restaurants, Food',\n",
              " 'Vacation Rentals, Event Planning & Services, Hotels & Travel, Hotels, Venues & Event Spaces, Resorts',\n",
              " 'Restaurants, Indian, Halal, Pakistani',\n",
              " ...]"
            ]
          },
          "execution_count": 3,
          "metadata": {},
          "output_type": "execute_result"
        }
      ],
      "source": [
        "#import categories from dataset that are already belonging to some business\n",
        "categories = []\n",
        "for b in businesses:\n",
        "    if b['categories'] not in categories:\n",
        "        categories.append(b['categories'])\n",
        "categories"
      ]
    },
    {
      "cell_type": "code",
      "execution_count": null,
      "metadata": {
        "colab": {
          "base_uri": "https://localhost:8080/"
        },
        "id": "0ADthhXkwmjM",
        "outputId": "f30de8ec-cf06-4ba8-f41a-822f28ce7abe"
      },
      "outputs": [
        {
          "data": {
            "text/plain": [
              "160470"
            ]
          },
          "execution_count": 4,
          "metadata": {},
          "output_type": "execute_result"
        }
      ],
      "source": [
        "#remove businesses without any category/matched category\n",
        "withcategories = list(filter(lambda b: b['categories'] != None , businesses))\n",
        "len(withcategories)"
      ]
    },
    {
      "cell_type": "code",
      "execution_count": null,
      "metadata": {
        "colab": {
          "base_uri": "https://localhost:8080/"
        },
        "id": "9m9r52IIwsAn",
        "outputId": "651a9c88-0a60-436a-ab63-9aae46f0b2da"
      },
      "outputs": [
        {
          "data": {
            "text/plain": [
              "63915"
            ]
          },
          "execution_count": 5,
          "metadata": {},
          "output_type": "execute_result"
        }
      ],
      "source": [
        "#finding businesses with category as food or restaurant\n",
        "restaurants = list(filter(lambda b: 'food' in b['categories'].lower() or 'restaurant' in b['categories'].lower(), withcategories))\n",
        "#restaurants\n",
        "len(restaurants)\n"
      ]
    },
    {
      "cell_type": "code",
      "execution_count": null,
      "metadata": {
        "id": "e_Yk-UjHHhAT"
      },
      "outputs": [],
      "source": [
        "#take business id column from filtered data\n",
        "restaurant_ids = [r['business_id'] for r in restaurants]"
      ]
    },
    {
      "cell_type": "code",
      "execution_count": null,
      "metadata": {
        "id": "tmG0U5E-w1f1"
      },
      "outputs": [],
      "source": [
        "#read reviews dataset\n",
        "reviews = []\n"
      ]
    },
    {
      "cell_type": "markdown",
      "metadata": {
        "id": "aFhWoMj7HJMK"
      },
      "source": [
        "# Read Dataset\n"
      ]
    },
    {
      "cell_type": "code",
      "execution_count": null,
      "metadata": {
        "colab": {
          "base_uri": "https://localhost:8080/"
        },
        "id": "yFZzxFFNkQL3",
        "outputId": "f57f9baa-bbe1-4e2b-8ea2-8bddfffd48ae"
      },
      "outputs": [
        {
          "data": {
            "text/plain": [
              "1765254"
            ]
          },
          "execution_count": 8,
          "metadata": {},
          "output_type": "execute_result"
        }
      ],
      "source": [
        "for line in open('/content/drive/MyDrive/Project/SEM 5/Yelp Dataset/review_part1.json', 'r',encoding=\"utf-8\"):\n",
        "    reviews.append(json.loads(line))\n",
        "reviews\n",
        "len(reviews)"
      ]
    },
    {
      "cell_type": "code",
      "execution_count": null,
      "metadata": {
        "colab": {
          "base_uri": "https://localhost:8080/"
        },
        "id": "gGpd2QkwJYLz",
        "outputId": "7295d23b-8136-438c-96af-5e30e762cc1b"
      },
      "outputs": [
        {
          "data": {
            "text/plain": [
              "1066645"
            ]
          },
          "execution_count": 10,
          "metadata": {},
          "output_type": "execute_result"
        }
      ],
      "source": [
        "reviews.clear()\n",
        "for line in open('/content/drive/MyDrive/Project/SEM 5/Yelp Dataset/review_part2_1.json', 'r',encoding=\"utf-8\"):\n",
        "    reviews.append(json.loads(line))\n",
        "len(reviews)"
      ]
    },
    {
      "cell_type": "code",
      "execution_count": null,
      "metadata": {
        "colab": {
          "base_uri": "https://localhost:8080/"
        },
        "id": "f8zDgtkcQZ-D",
        "outputId": "50e26b51-4c35-4a94-dedc-e881afb8a93b"
      },
      "outputs": [
        {
          "data": {
            "text/plain": [
              "1036153"
            ]
          },
          "execution_count": 8,
          "metadata": {},
          "output_type": "execute_result"
        }
      ],
      "source": [
        "reviews.clear()\n",
        "for line in open('/content/drive/MyDrive/Project/SEM 5/Yelp Dataset/review_part2_2.json', 'r',encoding=\"utf-8\"):\n",
        "    reviews.append(json.loads(line))\n",
        "len(reviews)"
      ]
    },
    {
      "cell_type": "code",
      "execution_count": null,
      "metadata": {
        "colab": {
          "base_uri": "https://localhost:8080/"
        },
        "id": "ozAP4eMlJa8Y",
        "outputId": "667a4cad-f843-42a7-fb86-05674f7fca6e"
      },
      "outputs": [
        {
          "data": {
            "text/plain": [
              "5725883"
            ]
          },
          "execution_count": 10,
          "metadata": {},
          "output_type": "execute_result"
        }
      ],
      "source": [
        "reviews.clear()\n",
        "for line in open('/content/drive/MyDrive/Project/SEM 5/Yelp Dataset/review_part3.json', 'r',encoding=\"utf-8\"):\n",
        "    reviews.append(json.loads(line))\n",
        "len(reviews)"
      ]
    },
    {
      "cell_type": "code",
      "execution_count": null,
      "metadata": {
        "id": "ndObt_JqJdCj"
      },
      "outputs": [],
      "source": [
        "reviews.clear()\n",
        "for line in open('/content/drive/MyDrive/Project/SEM 5/Yelp Dataset/review_part4.json', 'r',encoding=\"utf-8\"):\n",
        "    reviews.append(json.loads(line))\n",
        "len(reviews)"
      ]
    },
    {
      "cell_type": "code",
      "execution_count": null,
      "metadata": {
        "id": "HRO5hsFTJe8v"
      },
      "outputs": [],
      "source": [
        "reviews.clear()\n",
        "for line in open('/content/drive/MyDrive/Project/SEM 5/Yelp Dataset/review_part5.json', 'r',encoding=\"utf-8\"):\n",
        "    reviews.append(json.loads(line))\n",
        "len(reviews)"
      ]
    },
    {
      "cell_type": "markdown",
      "metadata": {
        "id": "pyt016E0N3WC"
      },
      "source": [
        "# REPEAT FROM HERE"
      ]
    },
    {
      "cell_type": "code",
      "execution_count": null,
      "metadata": {
        "colab": {
          "background_save": true
        },
        "id": "f-M5JfEr3CVR"
      },
      "outputs": [],
      "source": [
        "#filter data from review dataset, that exist in above filtered data (take data of restaurants reviews)\n",
        "restaurant_reviews = list(filter(lambda r: r['business_id'] in restaurant_ids, reviews))"
      ]
    },
    {
      "cell_type": "code",
      "execution_count": null,
      "metadata": {
        "cellView": "code",
        "colab": {
          "base_uri": "https://localhost:8080/"
        },
        "id": "TblYKidO3CxD",
        "outputId": "dbd39310-7a83-4730-d3d4-64904b1d70f3"
      },
      "outputs": [
        {
          "data": {
            "text/plain": [
              "726732"
            ]
          },
          "execution_count": 10,
          "metadata": {},
          "output_type": "execute_result"
        }
      ],
      "source": [
        "#@title Default title text\n",
        "#save restaurant reviews into a json file\n",
        "with open('/content/drive/MyDrive/Project/SEM 5/Yelp Dataset/FilteredData/restaurantreviews1.json', 'a') as f:\n",
        "    json.dump(restaurant_reviews, f)\n",
        "reviewsnew=restaurant_reviews\n",
        "len(reviewsnew)"
      ]
    },
    {
      "cell_type": "code",
      "execution_count": null,
      "metadata": {
        "id": "CCrXCsBHM7G8"
      },
      "outputs": [],
      "source": [
        "with open('/content/drive/MyDrive/Project/SEM 5/Yelp Dataset/FilteredData/restaurantreviews2.json', 'a') as f:\n",
        "    json.dump(restaurant_reviews, f)\n",
        "reviewsnew=restaurant_reviews\n",
        "len(reviewsnew)"
      ]
    },
    {
      "cell_type": "code",
      "execution_count": null,
      "metadata": {
        "id": "km9fFjHjM64m"
      },
      "outputs": [],
      "source": [
        "with open('/content/drive/MyDrive/Project/SEM 5/Yelp Dataset/FilteredData/restaurantreviews3.json', 'a') as f:\n",
        "    json.dump(restaurant_reviews, f)\n",
        "reviewsnew=restaurant_reviews\n",
        "len(reviewsnew)"
      ]
    },
    {
      "cell_type": "code",
      "execution_count": null,
      "metadata": {
        "id": "IS_2-sQKM6n2"
      },
      "outputs": [],
      "source": [
        "with open('/content/drive/MyDrive/Project/SEM 5/Yelp Dataset/FilteredData/restaurantreviews4.json', 'a') as f:\n",
        "    json.dump(restaurant_reviews, f)\n",
        "reviewsnew=restaurant_reviews\n",
        "len(reviewsnew)"
      ]
    },
    {
      "cell_type": "code",
      "execution_count": null,
      "metadata": {
        "id": "Gt1ht-ZhM6dS"
      },
      "outputs": [],
      "source": [
        "with open('/content/drive/MyDrive/Project/SEM 5/Yelp Dataset/FilteredData/restaurantreviews5.json', 'a') as f:\n",
        "    json.dump(restaurant_reviews, f)\n",
        "reviewsnew=restaurant_reviews\n",
        "len(reviewsnew)"
      ]
    },
    {
      "cell_type": "code",
      "execution_count": null,
      "metadata": {
        "id": "Lowh9ftBM6Uv"
      },
      "outputs": [],
      "source": [
        "with open('/content/drive/MyDrive/Project/SEM 5/Yelp Dataset/FilteredData/restaurantreviews6.json', 'a') as f:\n",
        "    json.dump(restaurant_reviews, f)\n",
        "reviewsnew=restaurant_reviews\n",
        "len(reviewsnew)"
      ]
    },
    {
      "cell_type": "markdown",
      "metadata": {
        "id": "6cizkyuTv212"
      },
      "source": [
        "# After Most time consuming"
      ]
    },
    {
      "cell_type": "code",
      "execution_count": null,
      "metadata": {
        "id": "16ZA391Dwo-k"
      },
      "outputs": [],
      "source": [
        "#read the restaurant reviews(filtered data)\n",
        "'''for line in open('/content/drive/MyDrive/Project/SEM 5/Yelp Dataset/FilteredData/restaurantreviews_2.json', 'r'):\n",
        "  reviewsnew= json.loads(line)\n",
        "len(reviewsnew)\n",
        "reviewsnew"
      ]
    },
    {
      "cell_type": "code",
      "execution_count": null,
      "metadata": {
        "colab": {
          "base_uri": "https://localhost:8080/"
        },
        "id": "NK_KwhaBV2ww",
        "outputId": "b8d10be2-9df5-4434-85d5-051ef493a878"
      },
      "outputs": [
        {
          "data": {
            "text/plain": [
              "335861"
            ]
          },
          "execution_count": 12,
          "metadata": {},
          "output_type": "execute_result"
        }
      ],
      "source": [
        "#get unique users who gave reviews\n",
        "users = [r['user_id'] for r in reviewsnew]\n",
        "unique_users = list(set(users))\n",
        "len(unique_users)"
      ]
    },
    {
      "cell_type": "code",
      "execution_count": null,
      "metadata": {
        "id": "FwHQqQjEV8NS"
      },
      "outputs": [],
      "source": [
        "#get frequency of reviews by user\n",
        "from collections import Counter\n",
        "user_count = dict(Counter(users))\n",
        "user_count"
      ]
    },
    {
      "cell_type": "code",
      "execution_count": null,
      "metadata": {
        "colab": {
          "base_uri": "https://localhost:8080/"
        },
        "id": "2NST7pfrWFgG",
        "outputId": "603df638-4f34-4d36-f636-f6975194fdb1"
      },
      "outputs": [
        {
          "data": {
            "text/plain": [
              "8519"
            ]
          },
          "execution_count": 14,
          "metadata": {},
          "output_type": "execute_result"
        }
      ],
      "source": [
        "#find users who have given more than or equal 10 reviews (authenticated users)\n",
        "over10 = {x : user_count[x] for x in user_count if user_count[x] >= 10 }\n",
        "len(over10)"
      ]
    },
    {
      "cell_type": "code",
      "execution_count": null,
      "metadata": {
        "colab": {
          "base_uri": "https://localhost:8080/"
        },
        "id": "Qmb0yZoFWGAG",
        "outputId": "92531382-fdfc-4d65-d39f-894c823a80b2"
      },
      "outputs": [
        {
          "data": {
            "text/plain": [
              "8519"
            ]
          },
          "execution_count": 15,
          "metadata": {},
          "output_type": "execute_result"
        }
      ],
      "source": [
        "#convert into list\n",
        "users10 = list(over10)\n",
        "len(users10)"
      ]
    },
    {
      "cell_type": "code",
      "execution_count": null,
      "metadata": {
        "colab": {
          "base_uri": "https://localhost:8080/"
        },
        "id": "mzKMrGEGWLOD",
        "outputId": "e03b376e-0bca-4eaa-e6fb-13c610c1dab8"
      },
      "outputs": [
        {
          "data": {
            "text/plain": [
              "170629"
            ]
          },
          "execution_count": 16,
          "metadata": {},
          "output_type": "execute_result"
        }
      ],
      "source": [
        "# filtering down reviews to restaurant with more than 10 reviews by users\n",
        "ten_reviews = list(filter(lambda r: r['user_id'] in users10, reviewsnew))\n",
        "with open('/content/drive/MyDrive/Project/SEM 5/Yelp Dataset/FilteredData/user10reviews.json', 'a') as f:\n",
        "    json.dump(ten_reviews, f)\n",
        "len(ten_reviews)"
      ]
    },
    {
      "cell_type": "code",
      "execution_count": null,
      "metadata": {
        "colab": {
          "base_uri": "https://localhost:8080/"
        },
        "id": "uB2hPEy-WT8y",
        "outputId": "4e64964a-7f49-489b-d491-b96594915eb1"
      },
      "outputs": [
        {
          "data": {
            "text/plain": [
              "39972"
            ]
          },
          "execution_count": 17,
          "metadata": {},
          "output_type": "execute_result"
        }
      ],
      "source": [
        "#filter the businesses more with respect to restaurants where users gave more than 10 reviews\n",
        "businesses = [r['business_id'] for r in reviewsnew]\n",
        "unique_businesses = list(set(businesses))\n",
        "len(unique_businesses)"
      ]
    },
    {
      "cell_type": "code",
      "execution_count": null,
      "metadata": {
        "colab": {
          "base_uri": "https://localhost:8080/"
        },
        "id": "oh5-_9RoWVZI",
        "outputId": "688334bc-bd8e-40b7-80ed-ec5d4113ada1"
      },
      "outputs": [
        {
          "data": {
            "text/plain": [
              "726732"
            ]
          },
          "execution_count": 18,
          "metadata": {},
          "output_type": "execute_result"
        }
      ],
      "source": [
        "cut = [(r['user_id'], r['business_id'], r['stars']) for r in reviewsnew]\n",
        "len(cut)"
      ]
    },
    {
      "cell_type": "code",
      "execution_count": null,
      "metadata": {
        "id": "3TRxhyxxWXMQ"
      },
      "outputs": [],
      "source": [
        "#adding index to unique users and unique businesses\n",
        "indexed_users = {v: k for k, v in enumerate(unique_users)}\n",
        "indexed_businesses = {v: k for k, v in enumerate(unique_businesses)}\n",
        "#mapping user index, business index and its stars for easier data manipulation\n",
        "indexed_data = list(map(lambda r: (indexed_users[r[0]], indexed_businesses[r[1]], r[2]), cut))\n",
        "indexed_data"
      ]
    },
    {
      "cell_type": "code",
      "execution_count": null,
      "metadata": {
        "id": "b6XA3qzuWdW6"
      },
      "outputs": [],
      "source": [
        "# write the indexed data into csv file\n",
        "import csv\n",
        "with open('/content/drive/MyDrive/Project/SEM 5/Yelp Dataset/FilteredData/finaldata.csv', 'a') as f:\n",
        "    writer = csv.writer(f , lineterminator='\\n')\n",
        "    for tup in indexed_data:\n",
        "        writer.writerow(tup)\n",
        "import pandas as pd\n",
        "reviews = pd.read_csv('/content/drive/MyDrive/Project/SEM 5/Yelp Dataset/FilteredData/finaldata.csv')\n",
        "reviews"
      ]
    },
    {
      "cell_type": "markdown",
      "metadata": {
        "id": "XNEzym8IWmAB"
      },
      "source": [
        "# Finalizing the Data"
      ]
    },
    {
      "cell_type": "code",
      "execution_count": null,
      "metadata": {
        "id": "NCXfVwKA2qff"
      },
      "outputs": [],
      "source": [
        "#Json file read error solving\n",
        "'''list1 = []\n",
        "dic1={}\n",
        "with open('/content/drive/MyDrive/Project/SEM 5/Yelp Dataset/FilteredData/testingusers.json') as f:\n",
        "    for jsonObj in f:\n",
        "        dic1 = json.loads(jsonObj)\n",
        "        list1.append(dic1)\n",
        "list1'''"
      ]
    },
    {
      "cell_type": "code",
      "execution_count": null,
      "metadata": {
        "id": "Dvm4NTTFWpVh"
      },
      "outputs": [],
      "source": [
        "# error due to appending already existing json file. DO it all again\n",
        "import json\n",
        "finalreviews=[]\n",
        "'''for line in open('/content/drive/MyDrive/Project/SEM 5/Yelp Dataset/FilteredData/user10reviews.json', 'r'):\n",
        "  #finalreviews.append(json.loads(line))\n",
        "#finalreviews = json.loads(content)'''\n",
        "finalreviews=ten_reviews\n",
        "finalreviews"
      ]
    },
    {
      "cell_type": "code",
      "execution_count": null,
      "metadata": {
        "colab": {
          "base_uri": "https://localhost:8080/"
        },
        "id": "wwNSsPnpEOOe",
        "outputId": "aa5796d1-b9b8-48e3-a4a3-2d7da4cfffee"
      },
      "outputs": [
        {
          "data": {
            "text/plain": [
              "170629"
            ]
          },
          "execution_count": 22,
          "metadata": {},
          "output_type": "execute_result"
        }
      ],
      "source": [
        "finalbusinesses = [r['business_id'] for r in finalreviews]\n",
        "len(finalbusinesses)"
      ]
    },
    {
      "cell_type": "code",
      "execution_count": null,
      "metadata": {
        "colab": {
          "base_uri": "https://localhost:8080/"
        },
        "id": "uKxbdf1qEVl_",
        "outputId": "a82f0282-765e-40a0-ab16-b24bcb4dc501"
      },
      "outputs": [
        {
          "data": {
            "text/plain": [
              "29407"
            ]
          },
          "execution_count": 23,
          "metadata": {},
          "output_type": "execute_result"
        }
      ],
      "source": [
        "final_unique_businesses = list(set(finalbusinesses))\n",
        "len(final_unique_businesses)"
      ]
    },
    {
      "cell_type": "code",
      "execution_count": null,
      "metadata": {
        "colab": {
          "base_uri": "https://localhost:8080/"
        },
        "id": "1vf4OXH4Edah",
        "outputId": "4e22cf3c-22b6-4717-8988-e6e8071dba25"
      },
      "outputs": [
        {
          "data": {
            "text/plain": [
              "29407"
            ]
          },
          "execution_count": 24,
          "metadata": {},
          "output_type": "execute_result"
        }
      ],
      "source": [
        "final_indexed_businesses = {v: k for k, v in enumerate(final_unique_businesses)}\n",
        "len(final_indexed_businesses)"
      ]
    },
    {
      "cell_type": "code",
      "execution_count": null,
      "metadata": {
        "colab": {
          "base_uri": "https://localhost:8080/"
        },
        "id": "mpxR3jQ8EiUa",
        "outputId": "0b720d1f-6068-4f67-d727-3f3bdc7952a0"
      },
      "outputs": [
        {
          "data": {
            "text/plain": [
              "160585"
            ]
          },
          "execution_count": 25,
          "metadata": {},
          "output_type": "execute_result"
        }
      ],
      "source": [
        "businesses = []\n",
        "for line in open('/content/drive/MyDrive/Project/SEM 5/Yelp Dataset/business.json', 'r'):\n",
        "    businesses.append(json.loads(line))\n",
        "len(businesses)"
      ]
    },
    {
      "cell_type": "code",
      "execution_count": null,
      "metadata": {
        "colab": {
          "base_uri": "https://localhost:8080/"
        },
        "id": "NxXOwPjHEiv4",
        "outputId": "52190683-0a00-4f6f-bb27-efce0b42dda3"
      },
      "outputs": [
        {
          "data": {
            "text/plain": [
              "29407"
            ]
          },
          "execution_count": 26,
          "metadata": {},
          "output_type": "execute_result"
        }
      ],
      "source": [
        "final_businesses_dicts = list(filter(lambda b: b['business_id'] in final_unique_businesses, businesses))\n",
        "len(final_businesses_dicts)"
      ]
    },
    {
      "cell_type": "code",
      "execution_count": null,
      "metadata": {
        "id": "-HFpxz8TE0pN"
      },
      "outputs": [],
      "source": [
        "with open('/content/drive/MyDrive/Project/SEM 5/Yelp Dataset/FilteredData/finalbusinesses.json', 'a') as f:\n",
        "    json.dump(final_businesses_dicts, f)\n"
      ]
    },
    {
      "cell_type": "code",
      "execution_count": null,
      "metadata": {
        "id": "TGBPzgKYE1_B"
      },
      "outputs": [],
      "source": [
        "for b in final_businesses_dicts:\n",
        "    b['id'] = final_indexed_businesses[b['business_id']]"
      ]
    },
    {
      "cell_type": "code",
      "execution_count": null,
      "metadata": {
        "id": "uoC0DnrPE3Vh"
      },
      "outputs": [],
      "source": [
        "with open('/content/drive/MyDrive/Project/SEM 5/Yelp Dataset/FilteredData/finalbusinessesindexed.json', 'a') as f:\n",
        "    json.dump(final_businesses_dicts, f)"
      ]
    },
    {
      "cell_type": "code",
      "execution_count": null,
      "metadata": {
        "colab": {
          "base_uri": "https://localhost:8080/"
        },
        "id": "FcalNvtH8D6H",
        "outputId": "b919b0c6-0fea-4df6-b170-d0f559923530"
      },
      "outputs": [
        {
          "data": {
            "text/plain": [
              "1284"
            ]
          },
          "execution_count": 17,
          "metadata": {},
          "output_type": "execute_result"
        }
      ],
      "source": [
        "import gc\n",
        "gc.collect()"
      ]
    }
  ],
  "metadata": {
    "colab": {
      "provenance": []
    },
    "kernelspec": {
      "display_name": "Python 3",
      "name": "python3"
    },
    "language_info": {
      "name": "python"
    }
  },
  "nbformat": 4,
  "nbformat_minor": 0
}
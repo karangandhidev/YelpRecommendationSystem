{
  "nbformat": 4,
  "nbformat_minor": 0,
  "metadata": {
    "colab": {
      "provenance": []
    },
    "kernelspec": {
      "name": "python3",
      "display_name": "Python 3"
    },
    "language_info": {
      "name": "python"
    },
    "accelerator": "TPU"
  },
  "cells": [
    {
      "cell_type": "code",
      "metadata": {
        "id": "Xy-RPPiL7-mu",
        "colab": {
          "base_uri": "https://localhost:8080/"
        },
        "outputId": "9f4f40f6-4db9-40c4-b0ca-46d6f5dfed6f"
      },
      "source": [
        "from google.colab import drive\n",
        "drive.mount('/content/drive',force_remount=True)"
      ],
      "execution_count": null,
      "outputs": [
        {
          "output_type": "stream",
          "name": "stdout",
          "text": [
            "Mounted at /content/drive\n"
          ]
        }
      ]
    },
    {
      "cell_type": "code",
      "source": [
        "#from google.colab import drive\n",
        "#drive.mount('/content/drive')"
      ],
      "metadata": {
        "id": "MjcGmZjYl0U5"
      },
      "execution_count": null,
      "outputs": []
    },
    {
      "cell_type": "code",
      "metadata": {
        "id": "K3zJO0QJunO9"
      },
      "source": [
        "import os\n",
        "import json\n",
        "import pandas as pd"
      ],
      "execution_count": null,
      "outputs": []
    },
    {
      "cell_type": "code",
      "source": [
        "! pip3 install scikit-surprise==1.0.5\n",
        "! pip3 install -U scikit-learn"
      ],
      "metadata": {
        "id": "dCoaOT3YoR2O"
      },
      "execution_count": null,
      "outputs": []
    },
    {
      "cell_type": "code",
      "metadata": {
        "id": "mq3D7MiYvfdD"
      },
      "source": [
        "\n",
        "from surprise import Dataset\n",
        "from surprise import Reader\n",
        "from surprise import SVD, evaluate, accuracy\n",
        "from surprise import dump\n",
        "from sklearn.model_selection import cross_validate\n",
        "from surprise.model_selection import train_test_split\n",
        "from surprise.model_selection import cross_validate\n",
        "from surprise.model_selection import GridSearchCV"
      ],
      "execution_count": null,
      "outputs": []
    },
    {
      "cell_type": "markdown",
      "metadata": {
        "id": "TwmJRFNUWiY4"
      },
      "source": [
        "# Testing data\n"
      ]
    },
    {
      "cell_type": "code",
      "metadata": {
        "id": "dgE-IZ-yvhhc"
      },
      "source": [
        "#opening data\n",
        "\n",
        "file_path = os.path.expanduser('/content/drive/MyDrive/Project/SEM 5/Yelp Dataset/FilteredData/finaldata.csv')"
      ],
      "execution_count": null,
      "outputs": []
    },
    {
      "cell_type": "code",
      "metadata": {
        "id": "ketrKQxXvizX"
      },
      "source": [
        "#format for reading data\n",
        "reader = Reader(line_format='user item rating', sep=',')\n"
      ],
      "execution_count": null,
      "outputs": []
    },
    {
      "cell_type": "code",
      "metadata": {
        "id": "DUmcEZ-kvkvf"
      },
      "source": [
        "#loading the data\n",
        "data = Dataset.load_from_file(file_path, reader=reader)"
      ],
      "execution_count": null,
      "outputs": []
    },
    {
      "cell_type": "code",
      "metadata": {
        "id": "IctxxtkKvmbp"
      },
      "source": [
        "#splitting data into 5 parts\n",
        "data.split(n_folds=5)"
      ],
      "execution_count": null,
      "outputs": []
    },
    {
      "cell_type": "markdown",
      "metadata": {
        "id": "IngV4RFpWpG4"
      },
      "source": [
        "# SVD Model"
      ]
    },
    {
      "cell_type": "code",
      "metadata": {
        "id": "gmCG3pt6vo1C"
      },
      "source": [
        "#single value decomposition model used for dimensionality reduction using matrix factorization\n",
        "svd = SVD()"
      ],
      "execution_count": null,
      "outputs": []
    },
    {
      "cell_type": "code",
      "metadata": {
        "id": "K4hNVhgbvrJK",
        "colab": {
          "base_uri": "https://localhost:8080/"
        },
        "outputId": "ed03d065-5d8b-4853-9b7c-bcc24dd0f94d"
      },
      "source": [
        "#MAE - Mean absolute error (difference between the prediction of an observation and the true value of that observation.) (Lower is better accuracy)\n",
        "#RMSE - root mean square error (the measure of how well a regression line fits the data points) (Lower is better)\n",
        "evaluate(svd, data, measures=['RMSE', 'MAE'])"
      ],
      "execution_count": null,
      "outputs": [
        {
          "output_type": "stream",
          "name": "stderr",
          "text": [
            "/usr/local/lib/python3.7/dist-packages/surprise/evaluate.py:66: UserWarning: The evaluate() method is deprecated. Please use model_selection.cross_validate() instead.\n",
            "  'model_selection.cross_validate() instead.', UserWarning)\n",
            "/usr/local/lib/python3.7/dist-packages/surprise/dataset.py:193: UserWarning: Using data.split() or using load_from_folds() without using a CV iterator is now deprecated. \n",
            "  UserWarning)\n"
          ]
        },
        {
          "output_type": "stream",
          "name": "stdout",
          "text": [
            "Evaluating RMSE, MAE of algorithm SVD.\n",
            "\n",
            "------------\n",
            "Fold 1\n",
            "RMSE: 1.1224\n",
            "MAE:  0.8744\n",
            "------------\n",
            "Fold 2\n",
            "RMSE: 1.1239\n",
            "MAE:  0.8755\n",
            "------------\n",
            "Fold 3\n",
            "RMSE: 1.1227\n",
            "MAE:  0.8742\n",
            "------------\n",
            "Fold 4\n",
            "RMSE: 1.1216\n",
            "MAE:  0.8730\n",
            "------------\n",
            "Fold 5\n",
            "RMSE: 1.1235\n",
            "MAE:  0.8749\n",
            "------------\n",
            "------------\n",
            "Mean RMSE: 1.1228\n",
            "Mean MAE : 0.8744\n",
            "------------\n",
            "------------\n"
          ]
        },
        {
          "output_type": "execute_result",
          "data": {
            "text/plain": [
              "CaseInsensitiveDefaultDict(list,\n",
              "                           {'mae': [0.8744362843418302,\n",
              "                             0.8754638139810607,\n",
              "                             0.8742434348428261,\n",
              "                             0.8730157619832355,\n",
              "                             0.8749001629049672],\n",
              "                            'rmse': [1.1224458472371888,\n",
              "                             1.12390445957997,\n",
              "                             1.1226840933399709,\n",
              "                             1.121590222798207,\n",
              "                             1.1234891540230896]})"
            ]
          },
          "metadata": {},
          "execution_count": 13
        }
      ]
    },
    {
      "cell_type": "markdown",
      "metadata": {
        "id": "Y-YwfbhsLxiL"
      },
      "source": [
        "# Bias and Learning Rate"
      ]
    },
    {
      "cell_type": "code",
      "metadata": {
        "id": "eVg_r2wDvtjv"
      },
      "source": [
        "#bias and learning rate\n",
        "param_grid = {'biased': [True, False], 'lr_all': [0.001, 0.005, 0.05]}\n",
        "#get accuracy/loss of hyperparameters by crossvalidation using all possible combinations\n",
        "#cv-> crossvalidation splitting\n",
        "gs = GridSearchCV(SVD, param_grid, measures=['rmse', 'mae'], cv=3, refit=True)"
      ],
      "execution_count": null,
      "outputs": []
    },
    {
      "cell_type": "code",
      "metadata": {
        "id": "pz_8DJVev5YN"
      },
      "source": [
        "#fit the best suited hyperparameters combination\n",
        "gs.fit(data)"
      ],
      "execution_count": null,
      "outputs": []
    },
    {
      "cell_type": "code",
      "metadata": {
        "id": "1e1Q58Iov6rE"
      },
      "source": [
        "#get fitted data\n",
        "results = gs.cv_results"
      ],
      "execution_count": null,
      "outputs": []
    },
    {
      "cell_type": "code",
      "metadata": {
        "id": "8KpB_2lhv7xY"
      },
      "source": [
        "#convert into dataframe to make it pretty\n",
        "results_df = pd.DataFrame.from_dict(gs.cv_results)\n",
        "results_df.to_csv('results.csv')"
      ],
      "execution_count": null,
      "outputs": []
    },
    {
      "cell_type": "code",
      "metadata": {
        "id": "Y_20L0Rav9Y3",
        "colab": {
          "base_uri": "https://localhost:8080/",
          "height": 614
        },
        "outputId": "e7b41aba-8a2a-40f7-8bc0-d8744dbad1b3"
      },
      "source": [
        "#REMEMBER: LOWER IS BETTER!\n",
        "results_df"
      ],
      "execution_count": null,
      "outputs": [
        {
          "output_type": "execute_result",
          "data": {
            "text/html": [
              "\n",
              "  <div id=\"df-6a6fa03b-b08c-4f9d-9cb1-8797d812c89a\">\n",
              "    <div class=\"colab-df-container\">\n",
              "      <div>\n",
              "<style scoped>\n",
              "    .dataframe tbody tr th:only-of-type {\n",
              "        vertical-align: middle;\n",
              "    }\n",
              "\n",
              "    .dataframe tbody tr th {\n",
              "        vertical-align: top;\n",
              "    }\n",
              "\n",
              "    .dataframe thead th {\n",
              "        text-align: right;\n",
              "    }\n",
              "</style>\n",
              "<table border=\"1\" class=\"dataframe\">\n",
              "  <thead>\n",
              "    <tr style=\"text-align: right;\">\n",
              "      <th></th>\n",
              "      <th>split0_test_rmse</th>\n",
              "      <th>split1_test_rmse</th>\n",
              "      <th>split2_test_rmse</th>\n",
              "      <th>mean_test_rmse</th>\n",
              "      <th>std_test_rmse</th>\n",
              "      <th>rank_test_rmse</th>\n",
              "      <th>split0_test_mae</th>\n",
              "      <th>split1_test_mae</th>\n",
              "      <th>split2_test_mae</th>\n",
              "      <th>mean_test_mae</th>\n",
              "      <th>std_test_mae</th>\n",
              "      <th>rank_test_mae</th>\n",
              "      <th>mean_fit_time</th>\n",
              "      <th>std_fit_time</th>\n",
              "      <th>mean_test_time</th>\n",
              "      <th>std_test_time</th>\n",
              "      <th>params</th>\n",
              "      <th>param_biased</th>\n",
              "      <th>param_lr_all</th>\n",
              "    </tr>\n",
              "  </thead>\n",
              "  <tbody>\n",
              "    <tr>\n",
              "      <th>0</th>\n",
              "      <td>1.326912</td>\n",
              "      <td>1.326454</td>\n",
              "      <td>1.326641</td>\n",
              "      <td>1.326669</td>\n",
              "      <td>0.000188</td>\n",
              "      <td>4</td>\n",
              "      <td>1.092232</td>\n",
              "      <td>1.092053</td>\n",
              "      <td>1.091901</td>\n",
              "      <td>1.092062</td>\n",
              "      <td>0.000135</td>\n",
              "      <td>4</td>\n",
              "      <td>398.091424</td>\n",
              "      <td>37.300258</td>\n",
              "      <td>38.866286</td>\n",
              "      <td>5.682648</td>\n",
              "      <td>{'biased': True, 'lr_all': 0.001}</td>\n",
              "      <td>True</td>\n",
              "      <td>0.001</td>\n",
              "    </tr>\n",
              "    <tr>\n",
              "      <th>1</th>\n",
              "      <td>1.172019</td>\n",
              "      <td>1.172411</td>\n",
              "      <td>1.172351</td>\n",
              "      <td>1.172260</td>\n",
              "      <td>0.000172</td>\n",
              "      <td>2</td>\n",
              "      <td>0.922317</td>\n",
              "      <td>0.922771</td>\n",
              "      <td>0.922717</td>\n",
              "      <td>0.922601</td>\n",
              "      <td>0.000203</td>\n",
              "      <td>3</td>\n",
              "      <td>431.244209</td>\n",
              "      <td>6.205414</td>\n",
              "      <td>39.894010</td>\n",
              "      <td>1.245309</td>\n",
              "      <td>{'biased': True, 'lr_all': 0.005}</td>\n",
              "      <td>True</td>\n",
              "      <td>0.005</td>\n",
              "    </tr>\n",
              "    <tr>\n",
              "      <th>2</th>\n",
              "      <td>1.070475</td>\n",
              "      <td>1.072364</td>\n",
              "      <td>1.070430</td>\n",
              "      <td>1.071090</td>\n",
              "      <td>0.000901</td>\n",
              "      <td>1</td>\n",
              "      <td>0.687729</td>\n",
              "      <td>0.689196</td>\n",
              "      <td>0.687951</td>\n",
              "      <td>0.688292</td>\n",
              "      <td>0.000645</td>\n",
              "      <td>1</td>\n",
              "      <td>430.122352</td>\n",
              "      <td>4.349267</td>\n",
              "      <td>42.572486</td>\n",
              "      <td>0.824236</td>\n",
              "      <td>{'biased': True, 'lr_all': 0.05}</td>\n",
              "      <td>True</td>\n",
              "      <td>0.050</td>\n",
              "    </tr>\n",
              "    <tr>\n",
              "      <th>3</th>\n",
              "      <td>3.067546</td>\n",
              "      <td>3.065077</td>\n",
              "      <td>3.067049</td>\n",
              "      <td>3.066557</td>\n",
              "      <td>0.001066</td>\n",
              "      <td>6</td>\n",
              "      <td>2.705091</td>\n",
              "      <td>2.702365</td>\n",
              "      <td>2.704709</td>\n",
              "      <td>2.704055</td>\n",
              "      <td>0.001205</td>\n",
              "      <td>6</td>\n",
              "      <td>427.499279</td>\n",
              "      <td>4.514319</td>\n",
              "      <td>35.706372</td>\n",
              "      <td>3.069608</td>\n",
              "      <td>{'biased': False, 'lr_all': 0.001}</td>\n",
              "      <td>False</td>\n",
              "      <td>0.001</td>\n",
              "    </tr>\n",
              "    <tr>\n",
              "      <th>4</th>\n",
              "      <td>2.049098</td>\n",
              "      <td>2.048767</td>\n",
              "      <td>2.033477</td>\n",
              "      <td>2.043781</td>\n",
              "      <td>0.007287</td>\n",
              "      <td>5</td>\n",
              "      <td>1.470876</td>\n",
              "      <td>1.471461</td>\n",
              "      <td>1.459443</td>\n",
              "      <td>1.467260</td>\n",
              "      <td>0.005533</td>\n",
              "      <td>5</td>\n",
              "      <td>423.939563</td>\n",
              "      <td>3.979564</td>\n",
              "      <td>36.649282</td>\n",
              "      <td>0.421633</td>\n",
              "      <td>{'biased': False, 'lr_all': 0.005}</td>\n",
              "      <td>False</td>\n",
              "      <td>0.005</td>\n",
              "    </tr>\n",
              "    <tr>\n",
              "      <th>5</th>\n",
              "      <td>1.295606</td>\n",
              "      <td>1.291621</td>\n",
              "      <td>1.292479</td>\n",
              "      <td>1.293235</td>\n",
              "      <td>0.001713</td>\n",
              "      <td>3</td>\n",
              "      <td>0.838509</td>\n",
              "      <td>0.836631</td>\n",
              "      <td>0.836594</td>\n",
              "      <td>0.837245</td>\n",
              "      <td>0.000894</td>\n",
              "      <td>2</td>\n",
              "      <td>339.227206</td>\n",
              "      <td>86.084993</td>\n",
              "      <td>26.608742</td>\n",
              "      <td>9.423176</td>\n",
              "      <td>{'biased': False, 'lr_all': 0.05}</td>\n",
              "      <td>False</td>\n",
              "      <td>0.050</td>\n",
              "    </tr>\n",
              "  </tbody>\n",
              "</table>\n",
              "</div>\n",
              "      <button class=\"colab-df-convert\" onclick=\"convertToInteractive('df-6a6fa03b-b08c-4f9d-9cb1-8797d812c89a')\"\n",
              "              title=\"Convert this dataframe to an interactive table.\"\n",
              "              style=\"display:none;\">\n",
              "        \n",
              "  <svg xmlns=\"http://www.w3.org/2000/svg\" height=\"24px\"viewBox=\"0 0 24 24\"\n",
              "       width=\"24px\">\n",
              "    <path d=\"M0 0h24v24H0V0z\" fill=\"none\"/>\n",
              "    <path d=\"M18.56 5.44l.94 2.06.94-2.06 2.06-.94-2.06-.94-.94-2.06-.94 2.06-2.06.94zm-11 1L8.5 8.5l.94-2.06 2.06-.94-2.06-.94L8.5 2.5l-.94 2.06-2.06.94zm10 10l.94 2.06.94-2.06 2.06-.94-2.06-.94-.94-2.06-.94 2.06-2.06.94z\"/><path d=\"M17.41 7.96l-1.37-1.37c-.4-.4-.92-.59-1.43-.59-.52 0-1.04.2-1.43.59L10.3 9.45l-7.72 7.72c-.78.78-.78 2.05 0 2.83L4 21.41c.39.39.9.59 1.41.59.51 0 1.02-.2 1.41-.59l7.78-7.78 2.81-2.81c.8-.78.8-2.07 0-2.86zM5.41 20L4 18.59l7.72-7.72 1.47 1.35L5.41 20z\"/>\n",
              "  </svg>\n",
              "      </button>\n",
              "      \n",
              "  <style>\n",
              "    .colab-df-container {\n",
              "      display:flex;\n",
              "      flex-wrap:wrap;\n",
              "      gap: 12px;\n",
              "    }\n",
              "\n",
              "    .colab-df-convert {\n",
              "      background-color: #E8F0FE;\n",
              "      border: none;\n",
              "      border-radius: 50%;\n",
              "      cursor: pointer;\n",
              "      display: none;\n",
              "      fill: #1967D2;\n",
              "      height: 32px;\n",
              "      padding: 0 0 0 0;\n",
              "      width: 32px;\n",
              "    }\n",
              "\n",
              "    .colab-df-convert:hover {\n",
              "      background-color: #E2EBFA;\n",
              "      box-shadow: 0px 1px 2px rgba(60, 64, 67, 0.3), 0px 1px 3px 1px rgba(60, 64, 67, 0.15);\n",
              "      fill: #174EA6;\n",
              "    }\n",
              "\n",
              "    [theme=dark] .colab-df-convert {\n",
              "      background-color: #3B4455;\n",
              "      fill: #D2E3FC;\n",
              "    }\n",
              "\n",
              "    [theme=dark] .colab-df-convert:hover {\n",
              "      background-color: #434B5C;\n",
              "      box-shadow: 0px 1px 3px 1px rgba(0, 0, 0, 0.15);\n",
              "      filter: drop-shadow(0px 1px 2px rgba(0, 0, 0, 0.3));\n",
              "      fill: #FFFFFF;\n",
              "    }\n",
              "  </style>\n",
              "\n",
              "      <script>\n",
              "        const buttonEl =\n",
              "          document.querySelector('#df-6a6fa03b-b08c-4f9d-9cb1-8797d812c89a button.colab-df-convert');\n",
              "        buttonEl.style.display =\n",
              "          google.colab.kernel.accessAllowed ? 'block' : 'none';\n",
              "\n",
              "        async function convertToInteractive(key) {\n",
              "          const element = document.querySelector('#df-6a6fa03b-b08c-4f9d-9cb1-8797d812c89a');\n",
              "          const dataTable =\n",
              "            await google.colab.kernel.invokeFunction('convertToInteractive',\n",
              "                                                     [key], {});\n",
              "          if (!dataTable) return;\n",
              "\n",
              "          const docLinkHtml = 'Like what you see? Visit the ' +\n",
              "            '<a target=\"_blank\" href=https://colab.research.google.com/notebooks/data_table.ipynb>data table notebook</a>'\n",
              "            + ' to learn more about interactive tables.';\n",
              "          element.innerHTML = '';\n",
              "          dataTable['output_type'] = 'display_data';\n",
              "          await google.colab.output.renderOutput(dataTable, element);\n",
              "          const docLink = document.createElement('div');\n",
              "          docLink.innerHTML = docLinkHtml;\n",
              "          element.appendChild(docLink);\n",
              "        }\n",
              "      </script>\n",
              "    </div>\n",
              "  </div>\n",
              "  "
            ],
            "text/plain": [
              "   split0_test_rmse  split1_test_rmse  ...  param_biased  param_lr_all\n",
              "0          1.326912          1.326454  ...          True         0.001\n",
              "1          1.172019          1.172411  ...          True         0.005\n",
              "2          1.070475          1.072364  ...          True         0.050\n",
              "3          3.067546          3.065077  ...         False         0.001\n",
              "4          2.049098          2.048767  ...         False         0.005\n",
              "5          1.295606          1.291621  ...         False         0.050\n",
              "\n",
              "[6 rows x 19 columns]"
            ]
          },
          "metadata": {},
          "execution_count": 19
        }
      ]
    },
    {
      "cell_type": "markdown",
      "metadata": {
        "id": "S5n0NW1rObqw"
      },
      "source": [
        "# Tuning n factors"
      ]
    },
    {
      "cell_type": "code",
      "metadata": {
        "id": "gjxGaVcvv-za"
      },
      "source": [
        "#n_factors = n folds(deciding the best number of folds)\n",
        "#finding the best combinations again but this time with n_factors\n",
        "param_grid = {'n_factors': [1, 5, 10], 'biased': [True], 'lr_all': [0.005],\n",
        "              'n_epochs': [20]}\n",
        "\n",
        "gs2 = GridSearchCV(SVD, param_grid, measures=['rmse', 'mae'], cv=3)"
      ],
      "execution_count": null,
      "outputs": []
    },
    {
      "cell_type": "code",
      "metadata": {
        "id": "xIkYTgf8wBIg"
      },
      "source": [
        "gs2.fit(data)"
      ],
      "execution_count": null,
      "outputs": []
    },
    {
      "cell_type": "code",
      "metadata": {
        "id": "cTDzeWtiwCwb"
      },
      "source": [
        "results = gs2.cv_results"
      ],
      "execution_count": null,
      "outputs": []
    },
    {
      "cell_type": "code",
      "metadata": {
        "id": "l9oxi8BtwEA5",
        "colab": {
          "base_uri": "https://localhost:8080/",
          "height": 416
        },
        "outputId": "b88e2a21-35e6-4676-898f-bb1fabb9dbb9"
      },
      "source": [
        "results_df = pd.DataFrame.from_dict(results)\n",
        "results_df"
      ],
      "execution_count": null,
      "outputs": [
        {
          "output_type": "execute_result",
          "data": {
            "text/html": [
              "\n",
              "  <div id=\"df-6848325b-78a7-4144-95b4-adf16f440ec8\">\n",
              "    <div class=\"colab-df-container\">\n",
              "      <div>\n",
              "<style scoped>\n",
              "    .dataframe tbody tr th:only-of-type {\n",
              "        vertical-align: middle;\n",
              "    }\n",
              "\n",
              "    .dataframe tbody tr th {\n",
              "        vertical-align: top;\n",
              "    }\n",
              "\n",
              "    .dataframe thead th {\n",
              "        text-align: right;\n",
              "    }\n",
              "</style>\n",
              "<table border=\"1\" class=\"dataframe\">\n",
              "  <thead>\n",
              "    <tr style=\"text-align: right;\">\n",
              "      <th></th>\n",
              "      <th>split0_test_rmse</th>\n",
              "      <th>split1_test_rmse</th>\n",
              "      <th>split2_test_rmse</th>\n",
              "      <th>mean_test_rmse</th>\n",
              "      <th>std_test_rmse</th>\n",
              "      <th>rank_test_rmse</th>\n",
              "      <th>split0_test_mae</th>\n",
              "      <th>split1_test_mae</th>\n",
              "      <th>split2_test_mae</th>\n",
              "      <th>mean_test_mae</th>\n",
              "      <th>std_test_mae</th>\n",
              "      <th>rank_test_mae</th>\n",
              "      <th>mean_fit_time</th>\n",
              "      <th>std_fit_time</th>\n",
              "      <th>mean_test_time</th>\n",
              "      <th>std_test_time</th>\n",
              "      <th>params</th>\n",
              "      <th>param_n_factors</th>\n",
              "      <th>param_biased</th>\n",
              "      <th>param_lr_all</th>\n",
              "      <th>param_n_epochs</th>\n",
              "    </tr>\n",
              "  </thead>\n",
              "  <tbody>\n",
              "    <tr>\n",
              "      <th>0</th>\n",
              "      <td>1.299486</td>\n",
              "      <td>1.298661</td>\n",
              "      <td>1.300259</td>\n",
              "      <td>1.299469</td>\n",
              "      <td>0.000652</td>\n",
              "      <td>3</td>\n",
              "      <td>1.053318</td>\n",
              "      <td>1.053491</td>\n",
              "      <td>1.054527</td>\n",
              "      <td>1.053779</td>\n",
              "      <td>0.000534</td>\n",
              "      <td>3</td>\n",
              "      <td>76.561859</td>\n",
              "      <td>1.281407</td>\n",
              "      <td>27.330688</td>\n",
              "      <td>0.763833</td>\n",
              "      <td>{'n_factors': 1, 'biased': True, 'lr_all': 0.0...</td>\n",
              "      <td>1</td>\n",
              "      <td>True</td>\n",
              "      <td>0.005</td>\n",
              "      <td>20</td>\n",
              "    </tr>\n",
              "    <tr>\n",
              "      <th>1</th>\n",
              "      <td>1.287301</td>\n",
              "      <td>1.286533</td>\n",
              "      <td>1.287797</td>\n",
              "      <td>1.287210</td>\n",
              "      <td>0.000520</td>\n",
              "      <td>2</td>\n",
              "      <td>1.041877</td>\n",
              "      <td>1.042086</td>\n",
              "      <td>1.042851</td>\n",
              "      <td>1.042271</td>\n",
              "      <td>0.000418</td>\n",
              "      <td>2</td>\n",
              "      <td>88.908903</td>\n",
              "      <td>1.414167</td>\n",
              "      <td>28.405005</td>\n",
              "      <td>0.858258</td>\n",
              "      <td>{'n_factors': 5, 'biased': True, 'lr_all': 0.0...</td>\n",
              "      <td>5</td>\n",
              "      <td>True</td>\n",
              "      <td>0.005</td>\n",
              "      <td>20</td>\n",
              "    </tr>\n",
              "    <tr>\n",
              "      <th>2</th>\n",
              "      <td>1.274665</td>\n",
              "      <td>1.274006</td>\n",
              "      <td>1.275742</td>\n",
              "      <td>1.274804</td>\n",
              "      <td>0.000716</td>\n",
              "      <td>1</td>\n",
              "      <td>1.029740</td>\n",
              "      <td>1.030041</td>\n",
              "      <td>1.031317</td>\n",
              "      <td>1.030366</td>\n",
              "      <td>0.000683</td>\n",
              "      <td>1</td>\n",
              "      <td>86.795732</td>\n",
              "      <td>21.132431</td>\n",
              "      <td>24.862788</td>\n",
              "      <td>4.517850</td>\n",
              "      <td>{'n_factors': 10, 'biased': True, 'lr_all': 0....</td>\n",
              "      <td>10</td>\n",
              "      <td>True</td>\n",
              "      <td>0.005</td>\n",
              "      <td>20</td>\n",
              "    </tr>\n",
              "  </tbody>\n",
              "</table>\n",
              "</div>\n",
              "      <button class=\"colab-df-convert\" onclick=\"convertToInteractive('df-6848325b-78a7-4144-95b4-adf16f440ec8')\"\n",
              "              title=\"Convert this dataframe to an interactive table.\"\n",
              "              style=\"display:none;\">\n",
              "        \n",
              "  <svg xmlns=\"http://www.w3.org/2000/svg\" height=\"24px\"viewBox=\"0 0 24 24\"\n",
              "       width=\"24px\">\n",
              "    <path d=\"M0 0h24v24H0V0z\" fill=\"none\"/>\n",
              "    <path d=\"M18.56 5.44l.94 2.06.94-2.06 2.06-.94-2.06-.94-.94-2.06-.94 2.06-2.06.94zm-11 1L8.5 8.5l.94-2.06 2.06-.94-2.06-.94L8.5 2.5l-.94 2.06-2.06.94zm10 10l.94 2.06.94-2.06 2.06-.94-2.06-.94-.94-2.06-.94 2.06-2.06.94z\"/><path d=\"M17.41 7.96l-1.37-1.37c-.4-.4-.92-.59-1.43-.59-.52 0-1.04.2-1.43.59L10.3 9.45l-7.72 7.72c-.78.78-.78 2.05 0 2.83L4 21.41c.39.39.9.59 1.41.59.51 0 1.02-.2 1.41-.59l7.78-7.78 2.81-2.81c.8-.78.8-2.07 0-2.86zM5.41 20L4 18.59l7.72-7.72 1.47 1.35L5.41 20z\"/>\n",
              "  </svg>\n",
              "      </button>\n",
              "      \n",
              "  <style>\n",
              "    .colab-df-container {\n",
              "      display:flex;\n",
              "      flex-wrap:wrap;\n",
              "      gap: 12px;\n",
              "    }\n",
              "\n",
              "    .colab-df-convert {\n",
              "      background-color: #E8F0FE;\n",
              "      border: none;\n",
              "      border-radius: 50%;\n",
              "      cursor: pointer;\n",
              "      display: none;\n",
              "      fill: #1967D2;\n",
              "      height: 32px;\n",
              "      padding: 0 0 0 0;\n",
              "      width: 32px;\n",
              "    }\n",
              "\n",
              "    .colab-df-convert:hover {\n",
              "      background-color: #E2EBFA;\n",
              "      box-shadow: 0px 1px 2px rgba(60, 64, 67, 0.3), 0px 1px 3px 1px rgba(60, 64, 67, 0.15);\n",
              "      fill: #174EA6;\n",
              "    }\n",
              "\n",
              "    [theme=dark] .colab-df-convert {\n",
              "      background-color: #3B4455;\n",
              "      fill: #D2E3FC;\n",
              "    }\n",
              "\n",
              "    [theme=dark] .colab-df-convert:hover {\n",
              "      background-color: #434B5C;\n",
              "      box-shadow: 0px 1px 3px 1px rgba(0, 0, 0, 0.15);\n",
              "      filter: drop-shadow(0px 1px 2px rgba(0, 0, 0, 0.3));\n",
              "      fill: #FFFFFF;\n",
              "    }\n",
              "  </style>\n",
              "\n",
              "      <script>\n",
              "        const buttonEl =\n",
              "          document.querySelector('#df-6848325b-78a7-4144-95b4-adf16f440ec8 button.colab-df-convert');\n",
              "        buttonEl.style.display =\n",
              "          google.colab.kernel.accessAllowed ? 'block' : 'none';\n",
              "\n",
              "        async function convertToInteractive(key) {\n",
              "          const element = document.querySelector('#df-6848325b-78a7-4144-95b4-adf16f440ec8');\n",
              "          const dataTable =\n",
              "            await google.colab.kernel.invokeFunction('convertToInteractive',\n",
              "                                                     [key], {});\n",
              "          if (!dataTable) return;\n",
              "\n",
              "          const docLinkHtml = 'Like what you see? Visit the ' +\n",
              "            '<a target=\"_blank\" href=https://colab.research.google.com/notebooks/data_table.ipynb>data table notebook</a>'\n",
              "            + ' to learn more about interactive tables.';\n",
              "          element.innerHTML = '';\n",
              "          dataTable['output_type'] = 'display_data';\n",
              "          await google.colab.output.renderOutput(dataTable, element);\n",
              "          const docLink = document.createElement('div');\n",
              "          docLink.innerHTML = docLinkHtml;\n",
              "          element.appendChild(docLink);\n",
              "        }\n",
              "      </script>\n",
              "    </div>\n",
              "  </div>\n",
              "  "
            ],
            "text/plain": [
              "   split0_test_rmse  split1_test_rmse  ...  param_lr_all  param_n_epochs\n",
              "0          1.299486          1.298661  ...         0.005              20\n",
              "1          1.287301          1.286533  ...         0.005              20\n",
              "2          1.274665          1.274006  ...         0.005              20\n",
              "\n",
              "[3 rows x 21 columns]"
            ]
          },
          "metadata": {},
          "execution_count": 23
        }
      ]
    },
    {
      "cell_type": "markdown",
      "metadata": {
        "id": "9scV0RFHOYC4"
      },
      "source": [
        "# Tuning Epochs"
      ]
    },
    {
      "cell_type": "code",
      "metadata": {
        "id": "n5DIHT9MwFdM"
      },
      "source": [
        "#n_epoch = epochs(deciding the best number of epoch)\n",
        "#finding the best combinations again but this time with n_epoch\n",
        "param_grid = {'n_epochs': [10, 20, 50], 'n_factors': [1], 'biased': [True], 'lr_all': [0.005]}\n",
        "gs3 = GridSearchCV(SVD, param_grid, measures=['rmse', 'mae'], cv=3)"
      ],
      "execution_count": null,
      "outputs": []
    },
    {
      "cell_type": "code",
      "metadata": {
        "id": "xUWeNCFfwHdQ"
      },
      "source": [
        "gs3.fit(data)"
      ],
      "execution_count": null,
      "outputs": []
    },
    {
      "cell_type": "code",
      "metadata": {
        "id": "28Nv54PMwIyl",
        "colab": {
          "base_uri": "https://localhost:8080/",
          "height": 416
        },
        "outputId": "1e5e69c5-4363-4f6a-d274-69b52045043e"
      },
      "source": [
        "results = gs3.cv_results\n",
        "results_df = pd.DataFrame.from_dict(results)\n",
        "results_df"
      ],
      "execution_count": null,
      "outputs": [
        {
          "output_type": "execute_result",
          "data": {
            "text/html": [
              "\n",
              "  <div id=\"df-20066ccd-6d74-4cad-a84d-30e5ad07a634\">\n",
              "    <div class=\"colab-df-container\">\n",
              "      <div>\n",
              "<style scoped>\n",
              "    .dataframe tbody tr th:only-of-type {\n",
              "        vertical-align: middle;\n",
              "    }\n",
              "\n",
              "    .dataframe tbody tr th {\n",
              "        vertical-align: top;\n",
              "    }\n",
              "\n",
              "    .dataframe thead th {\n",
              "        text-align: right;\n",
              "    }\n",
              "</style>\n",
              "<table border=\"1\" class=\"dataframe\">\n",
              "  <thead>\n",
              "    <tr style=\"text-align: right;\">\n",
              "      <th></th>\n",
              "      <th>split0_test_rmse</th>\n",
              "      <th>split1_test_rmse</th>\n",
              "      <th>split2_test_rmse</th>\n",
              "      <th>mean_test_rmse</th>\n",
              "      <th>std_test_rmse</th>\n",
              "      <th>rank_test_rmse</th>\n",
              "      <th>split0_test_mae</th>\n",
              "      <th>split1_test_mae</th>\n",
              "      <th>split2_test_mae</th>\n",
              "      <th>mean_test_mae</th>\n",
              "      <th>std_test_mae</th>\n",
              "      <th>rank_test_mae</th>\n",
              "      <th>mean_fit_time</th>\n",
              "      <th>std_fit_time</th>\n",
              "      <th>mean_test_time</th>\n",
              "      <th>std_test_time</th>\n",
              "      <th>params</th>\n",
              "      <th>param_n_epochs</th>\n",
              "      <th>param_n_factors</th>\n",
              "      <th>param_biased</th>\n",
              "      <th>param_lr_all</th>\n",
              "    </tr>\n",
              "  </thead>\n",
              "  <tbody>\n",
              "    <tr>\n",
              "      <th>0</th>\n",
              "      <td>1.317589</td>\n",
              "      <td>1.317842</td>\n",
              "      <td>1.317499</td>\n",
              "      <td>1.317643</td>\n",
              "      <td>0.000145</td>\n",
              "      <td>3</td>\n",
              "      <td>1.077473</td>\n",
              "      <td>1.078517</td>\n",
              "      <td>1.078087</td>\n",
              "      <td>1.078026</td>\n",
              "      <td>0.000429</td>\n",
              "      <td>3</td>\n",
              "      <td>38.041055</td>\n",
              "      <td>0.943994</td>\n",
              "      <td>27.841902</td>\n",
              "      <td>0.534445</td>\n",
              "      <td>{'n_epochs': 10, 'n_factors': 1, 'biased': Tru...</td>\n",
              "      <td>10</td>\n",
              "      <td>1</td>\n",
              "      <td>True</td>\n",
              "      <td>0.005</td>\n",
              "    </tr>\n",
              "    <tr>\n",
              "      <th>1</th>\n",
              "      <td>1.299465</td>\n",
              "      <td>1.299947</td>\n",
              "      <td>1.299685</td>\n",
              "      <td>1.299699</td>\n",
              "      <td>0.000197</td>\n",
              "      <td>2</td>\n",
              "      <td>1.053342</td>\n",
              "      <td>1.054449</td>\n",
              "      <td>1.054158</td>\n",
              "      <td>1.053983</td>\n",
              "      <td>0.000469</td>\n",
              "      <td>2</td>\n",
              "      <td>75.213372</td>\n",
              "      <td>2.515087</td>\n",
              "      <td>27.378492</td>\n",
              "      <td>0.937077</td>\n",
              "      <td>{'n_epochs': 20, 'n_factors': 1, 'biased': Tru...</td>\n",
              "      <td>20</td>\n",
              "      <td>1</td>\n",
              "      <td>True</td>\n",
              "      <td>0.005</td>\n",
              "    </tr>\n",
              "    <tr>\n",
              "      <th>2</th>\n",
              "      <td>1.273742</td>\n",
              "      <td>1.274352</td>\n",
              "      <td>1.273943</td>\n",
              "      <td>1.274012</td>\n",
              "      <td>0.000254</td>\n",
              "      <td>1</td>\n",
              "      <td>0.998425</td>\n",
              "      <td>0.999843</td>\n",
              "      <td>0.999517</td>\n",
              "      <td>0.999262</td>\n",
              "      <td>0.000607</td>\n",
              "      <td>1</td>\n",
              "      <td>186.299065</td>\n",
              "      <td>40.385525</td>\n",
              "      <td>30.308682</td>\n",
              "      <td>9.477992</td>\n",
              "      <td>{'n_epochs': 50, 'n_factors': 1, 'biased': Tru...</td>\n",
              "      <td>50</td>\n",
              "      <td>1</td>\n",
              "      <td>True</td>\n",
              "      <td>0.005</td>\n",
              "    </tr>\n",
              "  </tbody>\n",
              "</table>\n",
              "</div>\n",
              "      <button class=\"colab-df-convert\" onclick=\"convertToInteractive('df-20066ccd-6d74-4cad-a84d-30e5ad07a634')\"\n",
              "              title=\"Convert this dataframe to an interactive table.\"\n",
              "              style=\"display:none;\">\n",
              "        \n",
              "  <svg xmlns=\"http://www.w3.org/2000/svg\" height=\"24px\"viewBox=\"0 0 24 24\"\n",
              "       width=\"24px\">\n",
              "    <path d=\"M0 0h24v24H0V0z\" fill=\"none\"/>\n",
              "    <path d=\"M18.56 5.44l.94 2.06.94-2.06 2.06-.94-2.06-.94-.94-2.06-.94 2.06-2.06.94zm-11 1L8.5 8.5l.94-2.06 2.06-.94-2.06-.94L8.5 2.5l-.94 2.06-2.06.94zm10 10l.94 2.06.94-2.06 2.06-.94-2.06-.94-.94-2.06-.94 2.06-2.06.94z\"/><path d=\"M17.41 7.96l-1.37-1.37c-.4-.4-.92-.59-1.43-.59-.52 0-1.04.2-1.43.59L10.3 9.45l-7.72 7.72c-.78.78-.78 2.05 0 2.83L4 21.41c.39.39.9.59 1.41.59.51 0 1.02-.2 1.41-.59l7.78-7.78 2.81-2.81c.8-.78.8-2.07 0-2.86zM5.41 20L4 18.59l7.72-7.72 1.47 1.35L5.41 20z\"/>\n",
              "  </svg>\n",
              "      </button>\n",
              "      \n",
              "  <style>\n",
              "    .colab-df-container {\n",
              "      display:flex;\n",
              "      flex-wrap:wrap;\n",
              "      gap: 12px;\n",
              "    }\n",
              "\n",
              "    .colab-df-convert {\n",
              "      background-color: #E8F0FE;\n",
              "      border: none;\n",
              "      border-radius: 50%;\n",
              "      cursor: pointer;\n",
              "      display: none;\n",
              "      fill: #1967D2;\n",
              "      height: 32px;\n",
              "      padding: 0 0 0 0;\n",
              "      width: 32px;\n",
              "    }\n",
              "\n",
              "    .colab-df-convert:hover {\n",
              "      background-color: #E2EBFA;\n",
              "      box-shadow: 0px 1px 2px rgba(60, 64, 67, 0.3), 0px 1px 3px 1px rgba(60, 64, 67, 0.15);\n",
              "      fill: #174EA6;\n",
              "    }\n",
              "\n",
              "    [theme=dark] .colab-df-convert {\n",
              "      background-color: #3B4455;\n",
              "      fill: #D2E3FC;\n",
              "    }\n",
              "\n",
              "    [theme=dark] .colab-df-convert:hover {\n",
              "      background-color: #434B5C;\n",
              "      box-shadow: 0px 1px 3px 1px rgba(0, 0, 0, 0.15);\n",
              "      filter: drop-shadow(0px 1px 2px rgba(0, 0, 0, 0.3));\n",
              "      fill: #FFFFFF;\n",
              "    }\n",
              "  </style>\n",
              "\n",
              "      <script>\n",
              "        const buttonEl =\n",
              "          document.querySelector('#df-20066ccd-6d74-4cad-a84d-30e5ad07a634 button.colab-df-convert');\n",
              "        buttonEl.style.display =\n",
              "          google.colab.kernel.accessAllowed ? 'block' : 'none';\n",
              "\n",
              "        async function convertToInteractive(key) {\n",
              "          const element = document.querySelector('#df-20066ccd-6d74-4cad-a84d-30e5ad07a634');\n",
              "          const dataTable =\n",
              "            await google.colab.kernel.invokeFunction('convertToInteractive',\n",
              "                                                     [key], {});\n",
              "          if (!dataTable) return;\n",
              "\n",
              "          const docLinkHtml = 'Like what you see? Visit the ' +\n",
              "            '<a target=\"_blank\" href=https://colab.research.google.com/notebooks/data_table.ipynb>data table notebook</a>'\n",
              "            + ' to learn more about interactive tables.';\n",
              "          element.innerHTML = '';\n",
              "          dataTable['output_type'] = 'display_data';\n",
              "          await google.colab.output.renderOutput(dataTable, element);\n",
              "          const docLink = document.createElement('div');\n",
              "          docLink.innerHTML = docLinkHtml;\n",
              "          element.appendChild(docLink);\n",
              "        }\n",
              "      </script>\n",
              "    </div>\n",
              "  </div>\n",
              "  "
            ],
            "text/plain": [
              "   split0_test_rmse  split1_test_rmse  ...  param_biased  param_lr_all\n",
              "0          1.317589          1.317842  ...          True         0.005\n",
              "1          1.299465          1.299947  ...          True         0.005\n",
              "2          1.273742          1.274352  ...          True         0.005\n",
              "\n",
              "[3 rows x 21 columns]"
            ]
          },
          "metadata": {},
          "execution_count": 26
        }
      ]
    },
    {
      "cell_type": "markdown",
      "metadata": {
        "id": "eW2spQ95OTmm"
      },
      "source": [
        "# Tuning Regressor\n"
      ]
    },
    {
      "cell_type": "code",
      "metadata": {
        "id": "Ry9zVIsSwJ-0"
      },
      "source": [
        "param_grid = {'n_epochs': [20], 'n_factors': [1], 'biased': [True],\n",
        "              'lr_all': [0.005], 'reg_all': [0.05, 0.06, 0.07]}\n",
        "gs4 = GridSearchCV(SVD, param_grid, measures=['rmse', 'mae'], cv=3)"
      ],
      "execution_count": null,
      "outputs": []
    },
    {
      "cell_type": "code",
      "metadata": {
        "id": "D15T1CtPwLmE"
      },
      "source": [
        "gs4.fit(data)"
      ],
      "execution_count": null,
      "outputs": []
    },
    {
      "cell_type": "code",
      "metadata": {
        "id": "kJPp3tlSwNj-",
        "colab": {
          "base_uri": "https://localhost:8080/",
          "height": 416
        },
        "outputId": "3c8acc26-07c0-4cef-917a-5e345328ea2d"
      },
      "source": [
        "results = gs4.cv_results\n",
        "results_df = pd.DataFrame.from_dict(results)\n",
        "results_df"
      ],
      "execution_count": null,
      "outputs": [
        {
          "output_type": "execute_result",
          "data": {
            "text/html": [
              "\n",
              "  <div id=\"df-3f628b3a-520e-4778-8b83-39d6abb6bdd5\">\n",
              "    <div class=\"colab-df-container\">\n",
              "      <div>\n",
              "<style scoped>\n",
              "    .dataframe tbody tr th:only-of-type {\n",
              "        vertical-align: middle;\n",
              "    }\n",
              "\n",
              "    .dataframe tbody tr th {\n",
              "        vertical-align: top;\n",
              "    }\n",
              "\n",
              "    .dataframe thead th {\n",
              "        text-align: right;\n",
              "    }\n",
              "</style>\n",
              "<table border=\"1\" class=\"dataframe\">\n",
              "  <thead>\n",
              "    <tr style=\"text-align: right;\">\n",
              "      <th></th>\n",
              "      <th>split0_test_rmse</th>\n",
              "      <th>split1_test_rmse</th>\n",
              "      <th>split2_test_rmse</th>\n",
              "      <th>mean_test_rmse</th>\n",
              "      <th>std_test_rmse</th>\n",
              "      <th>rank_test_rmse</th>\n",
              "      <th>split0_test_mae</th>\n",
              "      <th>split1_test_mae</th>\n",
              "      <th>split2_test_mae</th>\n",
              "      <th>mean_test_mae</th>\n",
              "      <th>std_test_mae</th>\n",
              "      <th>rank_test_mae</th>\n",
              "      <th>mean_fit_time</th>\n",
              "      <th>std_fit_time</th>\n",
              "      <th>mean_test_time</th>\n",
              "      <th>std_test_time</th>\n",
              "      <th>params</th>\n",
              "      <th>param_n_epochs</th>\n",
              "      <th>param_n_factors</th>\n",
              "      <th>param_biased</th>\n",
              "      <th>param_lr_all</th>\n",
              "      <th>param_reg_all</th>\n",
              "    </tr>\n",
              "  </thead>\n",
              "  <tbody>\n",
              "    <tr>\n",
              "      <th>0</th>\n",
              "      <td>1.301553</td>\n",
              "      <td>1.301891</td>\n",
              "      <td>1.299462</td>\n",
              "      <td>1.300969</td>\n",
              "      <td>0.001074</td>\n",
              "      <td>1</td>\n",
              "      <td>1.057828</td>\n",
              "      <td>1.057791</td>\n",
              "      <td>1.056431</td>\n",
              "      <td>1.057350</td>\n",
              "      <td>0.000650</td>\n",
              "      <td>1</td>\n",
              "      <td>74.965753</td>\n",
              "      <td>2.179578</td>\n",
              "      <td>27.666857</td>\n",
              "      <td>1.135614</td>\n",
              "      <td>{'n_epochs': 20, 'n_factors': 1, 'biased': Tru...</td>\n",
              "      <td>20</td>\n",
              "      <td>1</td>\n",
              "      <td>True</td>\n",
              "      <td>0.005</td>\n",
              "      <td>0.05</td>\n",
              "    </tr>\n",
              "    <tr>\n",
              "      <th>1</th>\n",
              "      <td>1.301798</td>\n",
              "      <td>1.302021</td>\n",
              "      <td>1.299604</td>\n",
              "      <td>1.301141</td>\n",
              "      <td>0.001091</td>\n",
              "      <td>2</td>\n",
              "      <td>1.058715</td>\n",
              "      <td>1.058584</td>\n",
              "      <td>1.057252</td>\n",
              "      <td>1.058184</td>\n",
              "      <td>0.000661</td>\n",
              "      <td>2</td>\n",
              "      <td>73.006940</td>\n",
              "      <td>0.217685</td>\n",
              "      <td>26.868512</td>\n",
              "      <td>0.739908</td>\n",
              "      <td>{'n_epochs': 20, 'n_factors': 1, 'biased': Tru...</td>\n",
              "      <td>20</td>\n",
              "      <td>1</td>\n",
              "      <td>True</td>\n",
              "      <td>0.005</td>\n",
              "      <td>0.06</td>\n",
              "    </tr>\n",
              "    <tr>\n",
              "      <th>2</th>\n",
              "      <td>1.301958</td>\n",
              "      <td>1.302337</td>\n",
              "      <td>1.299813</td>\n",
              "      <td>1.301369</td>\n",
              "      <td>0.001111</td>\n",
              "      <td>3</td>\n",
              "      <td>1.059511</td>\n",
              "      <td>1.059532</td>\n",
              "      <td>1.058091</td>\n",
              "      <td>1.059045</td>\n",
              "      <td>0.000674</td>\n",
              "      <td>3</td>\n",
              "      <td>61.835288</td>\n",
              "      <td>16.904103</td>\n",
              "      <td>23.979925</td>\n",
              "      <td>4.169716</td>\n",
              "      <td>{'n_epochs': 20, 'n_factors': 1, 'biased': Tru...</td>\n",
              "      <td>20</td>\n",
              "      <td>1</td>\n",
              "      <td>True</td>\n",
              "      <td>0.005</td>\n",
              "      <td>0.07</td>\n",
              "    </tr>\n",
              "  </tbody>\n",
              "</table>\n",
              "</div>\n",
              "      <button class=\"colab-df-convert\" onclick=\"convertToInteractive('df-3f628b3a-520e-4778-8b83-39d6abb6bdd5')\"\n",
              "              title=\"Convert this dataframe to an interactive table.\"\n",
              "              style=\"display:none;\">\n",
              "        \n",
              "  <svg xmlns=\"http://www.w3.org/2000/svg\" height=\"24px\"viewBox=\"0 0 24 24\"\n",
              "       width=\"24px\">\n",
              "    <path d=\"M0 0h24v24H0V0z\" fill=\"none\"/>\n",
              "    <path d=\"M18.56 5.44l.94 2.06.94-2.06 2.06-.94-2.06-.94-.94-2.06-.94 2.06-2.06.94zm-11 1L8.5 8.5l.94-2.06 2.06-.94-2.06-.94L8.5 2.5l-.94 2.06-2.06.94zm10 10l.94 2.06.94-2.06 2.06-.94-2.06-.94-.94-2.06-.94 2.06-2.06.94z\"/><path d=\"M17.41 7.96l-1.37-1.37c-.4-.4-.92-.59-1.43-.59-.52 0-1.04.2-1.43.59L10.3 9.45l-7.72 7.72c-.78.78-.78 2.05 0 2.83L4 21.41c.39.39.9.59 1.41.59.51 0 1.02-.2 1.41-.59l7.78-7.78 2.81-2.81c.8-.78.8-2.07 0-2.86zM5.41 20L4 18.59l7.72-7.72 1.47 1.35L5.41 20z\"/>\n",
              "  </svg>\n",
              "      </button>\n",
              "      \n",
              "  <style>\n",
              "    .colab-df-container {\n",
              "      display:flex;\n",
              "      flex-wrap:wrap;\n",
              "      gap: 12px;\n",
              "    }\n",
              "\n",
              "    .colab-df-convert {\n",
              "      background-color: #E8F0FE;\n",
              "      border: none;\n",
              "      border-radius: 50%;\n",
              "      cursor: pointer;\n",
              "      display: none;\n",
              "      fill: #1967D2;\n",
              "      height: 32px;\n",
              "      padding: 0 0 0 0;\n",
              "      width: 32px;\n",
              "    }\n",
              "\n",
              "    .colab-df-convert:hover {\n",
              "      background-color: #E2EBFA;\n",
              "      box-shadow: 0px 1px 2px rgba(60, 64, 67, 0.3), 0px 1px 3px 1px rgba(60, 64, 67, 0.15);\n",
              "      fill: #174EA6;\n",
              "    }\n",
              "\n",
              "    [theme=dark] .colab-df-convert {\n",
              "      background-color: #3B4455;\n",
              "      fill: #D2E3FC;\n",
              "    }\n",
              "\n",
              "    [theme=dark] .colab-df-convert:hover {\n",
              "      background-color: #434B5C;\n",
              "      box-shadow: 0px 1px 3px 1px rgba(0, 0, 0, 0.15);\n",
              "      filter: drop-shadow(0px 1px 2px rgba(0, 0, 0, 0.3));\n",
              "      fill: #FFFFFF;\n",
              "    }\n",
              "  </style>\n",
              "\n",
              "      <script>\n",
              "        const buttonEl =\n",
              "          document.querySelector('#df-3f628b3a-520e-4778-8b83-39d6abb6bdd5 button.colab-df-convert');\n",
              "        buttonEl.style.display =\n",
              "          google.colab.kernel.accessAllowed ? 'block' : 'none';\n",
              "\n",
              "        async function convertToInteractive(key) {\n",
              "          const element = document.querySelector('#df-3f628b3a-520e-4778-8b83-39d6abb6bdd5');\n",
              "          const dataTable =\n",
              "            await google.colab.kernel.invokeFunction('convertToInteractive',\n",
              "                                                     [key], {});\n",
              "          if (!dataTable) return;\n",
              "\n",
              "          const docLinkHtml = 'Like what you see? Visit the ' +\n",
              "            '<a target=\"_blank\" href=https://colab.research.google.com/notebooks/data_table.ipynb>data table notebook</a>'\n",
              "            + ' to learn more about interactive tables.';\n",
              "          element.innerHTML = '';\n",
              "          dataTable['output_type'] = 'display_data';\n",
              "          await google.colab.output.renderOutput(dataTable, element);\n",
              "          const docLink = document.createElement('div');\n",
              "          docLink.innerHTML = docLinkHtml;\n",
              "          element.appendChild(docLink);\n",
              "        }\n",
              "      </script>\n",
              "    </div>\n",
              "  </div>\n",
              "  "
            ],
            "text/plain": [
              "   split0_test_rmse  split1_test_rmse  ...  param_lr_all  param_reg_all\n",
              "0          1.301553          1.301891  ...         0.005           0.05\n",
              "1          1.301798          1.302021  ...         0.005           0.06\n",
              "2          1.301958          1.302337  ...         0.005           0.07\n",
              "\n",
              "[3 rows x 22 columns]"
            ]
          },
          "metadata": {},
          "execution_count": 29
        }
      ]
    },
    {
      "cell_type": "code",
      "metadata": {
        "id": "Wl9mrSOdwPOY",
        "colab": {
          "base_uri": "https://localhost:8080/",
          "height": 143
        },
        "outputId": "d5d5b91b-29a5-484c-d4f2-251eca5b4233"
      },
      "source": [
        "results_df[['rank_test_rmse', 'rank_test_mae']]"
      ],
      "execution_count": null,
      "outputs": [
        {
          "output_type": "execute_result",
          "data": {
            "text/html": [
              "\n",
              "  <div id=\"df-5fc58e5e-31a3-422c-bb15-5647302547c2\">\n",
              "    <div class=\"colab-df-container\">\n",
              "      <div>\n",
              "<style scoped>\n",
              "    .dataframe tbody tr th:only-of-type {\n",
              "        vertical-align: middle;\n",
              "    }\n",
              "\n",
              "    .dataframe tbody tr th {\n",
              "        vertical-align: top;\n",
              "    }\n",
              "\n",
              "    .dataframe thead th {\n",
              "        text-align: right;\n",
              "    }\n",
              "</style>\n",
              "<table border=\"1\" class=\"dataframe\">\n",
              "  <thead>\n",
              "    <tr style=\"text-align: right;\">\n",
              "      <th></th>\n",
              "      <th>rank_test_rmse</th>\n",
              "      <th>rank_test_mae</th>\n",
              "    </tr>\n",
              "  </thead>\n",
              "  <tbody>\n",
              "    <tr>\n",
              "      <th>0</th>\n",
              "      <td>1</td>\n",
              "      <td>1</td>\n",
              "    </tr>\n",
              "    <tr>\n",
              "      <th>1</th>\n",
              "      <td>2</td>\n",
              "      <td>2</td>\n",
              "    </tr>\n",
              "    <tr>\n",
              "      <th>2</th>\n",
              "      <td>3</td>\n",
              "      <td>3</td>\n",
              "    </tr>\n",
              "  </tbody>\n",
              "</table>\n",
              "</div>\n",
              "      <button class=\"colab-df-convert\" onclick=\"convertToInteractive('df-5fc58e5e-31a3-422c-bb15-5647302547c2')\"\n",
              "              title=\"Convert this dataframe to an interactive table.\"\n",
              "              style=\"display:none;\">\n",
              "        \n",
              "  <svg xmlns=\"http://www.w3.org/2000/svg\" height=\"24px\"viewBox=\"0 0 24 24\"\n",
              "       width=\"24px\">\n",
              "    <path d=\"M0 0h24v24H0V0z\" fill=\"none\"/>\n",
              "    <path d=\"M18.56 5.44l.94 2.06.94-2.06 2.06-.94-2.06-.94-.94-2.06-.94 2.06-2.06.94zm-11 1L8.5 8.5l.94-2.06 2.06-.94-2.06-.94L8.5 2.5l-.94 2.06-2.06.94zm10 10l.94 2.06.94-2.06 2.06-.94-2.06-.94-.94-2.06-.94 2.06-2.06.94z\"/><path d=\"M17.41 7.96l-1.37-1.37c-.4-.4-.92-.59-1.43-.59-.52 0-1.04.2-1.43.59L10.3 9.45l-7.72 7.72c-.78.78-.78 2.05 0 2.83L4 21.41c.39.39.9.59 1.41.59.51 0 1.02-.2 1.41-.59l7.78-7.78 2.81-2.81c.8-.78.8-2.07 0-2.86zM5.41 20L4 18.59l7.72-7.72 1.47 1.35L5.41 20z\"/>\n",
              "  </svg>\n",
              "      </button>\n",
              "      \n",
              "  <style>\n",
              "    .colab-df-container {\n",
              "      display:flex;\n",
              "      flex-wrap:wrap;\n",
              "      gap: 12px;\n",
              "    }\n",
              "\n",
              "    .colab-df-convert {\n",
              "      background-color: #E8F0FE;\n",
              "      border: none;\n",
              "      border-radius: 50%;\n",
              "      cursor: pointer;\n",
              "      display: none;\n",
              "      fill: #1967D2;\n",
              "      height: 32px;\n",
              "      padding: 0 0 0 0;\n",
              "      width: 32px;\n",
              "    }\n",
              "\n",
              "    .colab-df-convert:hover {\n",
              "      background-color: #E2EBFA;\n",
              "      box-shadow: 0px 1px 2px rgba(60, 64, 67, 0.3), 0px 1px 3px 1px rgba(60, 64, 67, 0.15);\n",
              "      fill: #174EA6;\n",
              "    }\n",
              "\n",
              "    [theme=dark] .colab-df-convert {\n",
              "      background-color: #3B4455;\n",
              "      fill: #D2E3FC;\n",
              "    }\n",
              "\n",
              "    [theme=dark] .colab-df-convert:hover {\n",
              "      background-color: #434B5C;\n",
              "      box-shadow: 0px 1px 3px 1px rgba(0, 0, 0, 0.15);\n",
              "      filter: drop-shadow(0px 1px 2px rgba(0, 0, 0, 0.3));\n",
              "      fill: #FFFFFF;\n",
              "    }\n",
              "  </style>\n",
              "\n",
              "      <script>\n",
              "        const buttonEl =\n",
              "          document.querySelector('#df-5fc58e5e-31a3-422c-bb15-5647302547c2 button.colab-df-convert');\n",
              "        buttonEl.style.display =\n",
              "          google.colab.kernel.accessAllowed ? 'block' : 'none';\n",
              "\n",
              "        async function convertToInteractive(key) {\n",
              "          const element = document.querySelector('#df-5fc58e5e-31a3-422c-bb15-5647302547c2');\n",
              "          const dataTable =\n",
              "            await google.colab.kernel.invokeFunction('convertToInteractive',\n",
              "                                                     [key], {});\n",
              "          if (!dataTable) return;\n",
              "\n",
              "          const docLinkHtml = 'Like what you see? Visit the ' +\n",
              "            '<a target=\"_blank\" href=https://colab.research.google.com/notebooks/data_table.ipynb>data table notebook</a>'\n",
              "            + ' to learn more about interactive tables.';\n",
              "          element.innerHTML = '';\n",
              "          dataTable['output_type'] = 'display_data';\n",
              "          await google.colab.output.renderOutput(dataTable, element);\n",
              "          const docLink = document.createElement('div');\n",
              "          docLink.innerHTML = docLinkHtml;\n",
              "          element.appendChild(docLink);\n",
              "        }\n",
              "      </script>\n",
              "    </div>\n",
              "  </div>\n",
              "  "
            ],
            "text/plain": [
              "   rank_test_rmse  rank_test_mae\n",
              "0               1              1\n",
              "1               2              2\n",
              "2               3              3"
            ]
          },
          "metadata": {},
          "execution_count": 30
        }
      ]
    },
    {
      "cell_type": "markdown",
      "metadata": {
        "id": "c0Iq_FMSOR_R"
      },
      "source": [
        "# Single Value Decomposition"
      ]
    },
    {
      "cell_type": "code",
      "metadata": {
        "id": "6JMcjetUwPx8"
      },
      "source": [
        "svdpp = SVD()"
      ],
      "execution_count": null,
      "outputs": []
    },
    {
      "cell_type": "code",
      "metadata": {
        "id": "epH_rnpTwR3c"
      },
      "source": [
        "evaluate(svdpp, data, measures=['RMSE', 'MAE'])"
      ],
      "execution_count": null,
      "outputs": []
    },
    {
      "cell_type": "code",
      "metadata": {
        "id": "_5dFS2xnwTrc"
      },
      "source": [
        "nmf = NMF()"
      ],
      "execution_count": null,
      "outputs": []
    },
    {
      "cell_type": "code",
      "metadata": {
        "id": "oAQkGwOKwUzz"
      },
      "source": [
        "evaluate(nmf, data, measures=['RMSE', 'MAE'])"
      ],
      "execution_count": null,
      "outputs": []
    },
    {
      "cell_type": "markdown",
      "source": [
        "# best model"
      ],
      "metadata": {
        "id": "Dhbe5jGXRDps"
      }
    },
    {
      "cell_type": "code",
      "metadata": {
        "id": "L5vVsYzuwWC3"
      },
      "source": [
        "final = SVD(n_epochs=20, n_factors=1, biased=True,\n",
        "              lr_all=0.005, reg_all=0.06)"
      ],
      "execution_count": null,
      "outputs": []
    },
    {
      "cell_type": "code",
      "metadata": {
        "id": "5OwzlZKcwYT1"
      },
      "source": [
        "data = Dataset.load_from_file(file_path, reader=reader)\n",
        "trainset, testset = train_test_split(data, test_size=.2)"
      ],
      "execution_count": null,
      "outputs": []
    },
    {
      "cell_type": "code",
      "metadata": {
        "id": "eX5F6DOgwaGP"
      },
      "source": [
        "import time\n",
        "start = time.time()"
      ],
      "execution_count": null,
      "outputs": []
    },
    {
      "cell_type": "code",
      "metadata": {
        "id": "a8VuPp10wbVX",
        "colab": {
          "base_uri": "https://localhost:8080/"
        },
        "outputId": "e2727b97-5caf-4cfa-ca20-b8215de7298f"
      },
      "source": [
        "final.fit(trainset)\n",
        "runtime = time.time() - start\n",
        "print(runtime)"
      ],
      "execution_count": null,
      "outputs": [
        {
          "output_type": "stream",
          "name": "stdout",
          "text": [
            "112.86427211761475\n"
          ]
        }
      ]
    },
    {
      "cell_type": "code",
      "metadata": {
        "id": "2OdzDYhOwdSX"
      },
      "source": [
        "predictions = final.test(testset)"
      ],
      "execution_count": null,
      "outputs": []
    },
    {
      "cell_type": "code",
      "metadata": {
        "id": "doQzf5LNwenq",
        "colab": {
          "base_uri": "https://localhost:8080/"
        },
        "outputId": "62c1d32d-33bb-4fe0-d5c6-21a81d442416"
      },
      "source": [
        "accuracy.rmse(predictions)"
      ],
      "execution_count": null,
      "outputs": [
        {
          "output_type": "stream",
          "name": "stdout",
          "text": [
            "RMSE: 1.2908\n"
          ]
        },
        {
          "output_type": "execute_result",
          "data": {
            "text/plain": [
              "1.2908157217865033"
            ]
          },
          "metadata": {},
          "execution_count": 37
        }
      ]
    },
    {
      "cell_type": "code",
      "metadata": {
        "id": "xOS8jLKNwfln",
        "colab": {
          "base_uri": "https://localhost:8080/"
        },
        "outputId": "43fc4ee0-b429-41fd-eedd-653f517846fc"
      },
      "source": [
        "accuracy.mae(predictions)"
      ],
      "execution_count": null,
      "outputs": [
        {
          "output_type": "stream",
          "name": "stdout",
          "text": [
            "MAE:  1.0480\n"
          ]
        },
        {
          "output_type": "execute_result",
          "data": {
            "text/plain": [
              "1.0479786062486418"
            ]
          },
          "metadata": {},
          "execution_count": 38
        }
      ]
    },
    {
      "cell_type": "code",
      "metadata": {
        "id": "J35afcibwgy6",
        "colab": {
          "base_uri": "https://localhost:8080/"
        },
        "outputId": "2ae801f8-fc2f-4f00-f667-2194df8003aa"
      },
      "source": [
        "dump.dump('finalmodel', algo=final, predictions=predictions, verbose=1)"
      ],
      "execution_count": null,
      "outputs": [
        {
          "output_type": "stream",
          "name": "stdout",
          "text": [
            "The dump has been saved as file finalmodel\n"
          ]
        }
      ]
    },
    {
      "cell_type": "code",
      "metadata": {
        "id": "mmX_me1dwiFs"
      },
      "source": [
        "preds, model = dump.load('finalmodel')"
      ],
      "execution_count": null,
      "outputs": []
    },
    {
      "cell_type": "markdown",
      "source": [
        "# Prediction"
      ],
      "metadata": {
        "id": "-VgJnE4kRSMT"
      }
    },
    {
      "cell_type": "code",
      "metadata": {
        "id": "Dr2NZqIpwjB0",
        "colab": {
          "base_uri": "https://localhost:8080/"
        },
        "outputId": "3f67ca46-4f1b-46e8-f0f9-7efefb37c108"
      },
      "source": [
        "model.predict('30678', '51871')"
      ],
      "execution_count": null,
      "outputs": [
        {
          "output_type": "execute_result",
          "data": {
            "text/plain": [
              "Prediction(uid='30678', iid='51871', r_ui=None, est=3.2966408389412387, details={'was_impossible': False})"
            ]
          },
          "metadata": {},
          "execution_count": 41
        }
      ]
    },
    {
      "cell_type": "markdown",
      "source": [
        "# Mapping restaurant information to item IDs"
      ],
      "metadata": {
        "id": "rC50Um8BRVm-"
      }
    },
    {
      "cell_type": "code",
      "metadata": {
        "id": "aQ9-OEV4wlpz"
      },
      "source": [
        "def find(f, seq):\n",
        "    for item in seq:\n",
        "        if f(item):\n",
        "            return item"
      ],
      "execution_count": null,
      "outputs": []
    },
    {
      "cell_type": "code",
      "metadata": {
        "id": "UV7aj9Auwl8-"
      },
      "source": [
        "def get_info(iid):\n",
        "    return find(lambda b: iid == b['id'], businesses)"
      ],
      "execution_count": null,
      "outputs": []
    },
    {
      "cell_type": "code",
      "source": [
        "import gc\n",
        "gc.collect()"
      ],
      "metadata": {
        "colab": {
          "base_uri": "https://localhost:8080/"
        },
        "id": "W1ryWq4ZSbbP",
        "outputId": "17065861-7ec0-4bbc-91ba-51f219ebcfee"
      },
      "execution_count": null,
      "outputs": [
        {
          "output_type": "execute_result",
          "data": {
            "text/plain": [
              "209"
            ]
          },
          "metadata": {},
          "execution_count": 47
        }
      ]
    },
    {
      "cell_type": "code",
      "metadata": {
        "id": "axAYVcTswn9X"
      },
      "source": [
        "'''import json\n",
        "with open('/content/drive/MyDrive/Project/SEM 5/Yelp Dataset/FilteredData/finalbusinessesindexed.json') as f:\n",
        "    businesses = json.load(f)'''\n",
        "businesses=[]\n",
        "import json\n",
        "with open('/content/drive/MyDrive/Project/SEM 5/Yelp Dataset/shortdata/FilteredData/finalbusinessesindexed.json') as f:\n",
        "    businesses = json.load(f)\n",
        "#businesses.append(temp)"
      ],
      "execution_count": null,
      "outputs": []
    },
    {
      "cell_type": "code",
      "metadata": {
        "id": "oPLZTARxwnID",
        "colab": {
          "base_uri": "https://localhost:8080/"
        },
        "outputId": "db4a05cc-35d6-4d3f-f55f-a5c330493212"
      },
      "source": [
        "get_info(78)"
      ],
      "execution_count": null,
      "outputs": [
        {
          "output_type": "execute_result",
          "data": {
            "text/plain": [
              "{'address': '3150 Roswell Rd NW, Ste A3',\n",
              " 'attributes': {'Alcohol': \"u'full_bar'\",\n",
              "  'Ambience': \"{'touristy': False, 'hipster': False, 'romantic': False, 'divey': False, 'intimate': False, 'trendy': False, 'upscale': False, 'classy': True, 'casual': False}\",\n",
              "  'BusinessAcceptsCreditCards': 'True',\n",
              "  'BusinessParking': \"{'garage': True, 'street': True, 'validated': False, 'lot': False, 'valet': True}\",\n",
              "  'Caters': 'True',\n",
              "  'DogsAllowed': 'False',\n",
              "  'GoodForMeal': \"{'dessert': None, 'latenight': None, 'lunch': None, 'dinner': True, 'brunch': None, 'breakfast': None}\",\n",
              "  'HappyHour': 'True',\n",
              "  'HasTV': 'False',\n",
              "  'Music': \"{'dj': False, 'background_music': False, 'no_music': False, 'jukebox': False, 'live': False, 'video': False, 'karaoke': False}\",\n",
              "  'NoiseLevel': \"u'loud'\",\n",
              "  'OutdoorSeating': 'None',\n",
              "  'RestaurantsDelivery': 'True',\n",
              "  'RestaurantsGoodForGroups': 'True',\n",
              "  'RestaurantsReservations': 'True',\n",
              "  'RestaurantsTableService': 'True',\n",
              "  'RestaurantsTakeOut': 'True',\n",
              "  'WiFi': \"u'free'\"},\n",
              " 'business_id': 'MurRZhxMFipelvK2zzHRaw',\n",
              " 'categories': 'Nightlife, Tapas Bars, Restaurants, Bars, Beer Bar, Spanish, Burgers',\n",
              " 'city': 'Atlanta',\n",
              " 'hours': {'Friday': '11:30-21:0',\n",
              "  'Monday': '11:30-21:0',\n",
              "  'Saturday': '11:30-21:0',\n",
              "  'Sunday': '11:30-21:0',\n",
              "  'Thursday': '11:30-21:0',\n",
              "  'Tuesday': '11:30-21:0',\n",
              "  'Wednesday': '11:30-21:0'},\n",
              " 'id': 78,\n",
              " 'is_open': 1,\n",
              " 'latitude': 33.8398718345,\n",
              " 'longitude': -84.3797662126,\n",
              " 'name': 'The Iberian Pig',\n",
              " 'postal_code': '30305',\n",
              " 'review_count': 184,\n",
              " 'stars': 4.5,\n",
              " 'state': 'GA'}"
            ]
          },
          "metadata": {},
          "execution_count": 8
        }
      ]
    },
    {
      "cell_type": "code",
      "metadata": {
        "id": "AMl8SadUwpMJ"
      },
      "source": [
        "def get_n_preds(uid, n):\n",
        "    ratings = []\n",
        "    for i in range(1, 73101):\n",
        "        pred = model.predict(str(uid), str(i))\n",
        "        ratings.append((int(pred.iid), pred.est))\n",
        "    ratingsdesc = sorted(ratings, reverse=True, key=lambda x: x[1])[:n]\n",
        "    namedratings = [(get_info(r[0])['name'], r[1]) for r in ratingsdesc]\n",
        "    return namedratings"
      ],
      "execution_count": null,
      "outputs": []
    },
    {
      "cell_type": "code",
      "metadata": {
        "id": "7tOga9J0wrL5"
      },
      "source": [
        "get_n_preds(44, 10)"
      ],
      "execution_count": null,
      "outputs": []
    },
    {
      "cell_type": "code",
      "metadata": {
        "id": "NkfQAudfwsLc"
      },
      "source": [
        "import csv\n",
        "with open('/content/drive/MyDrive/Project/SEM 5/Yelp Dataset/FilteredData/finaldata.csv', 'r') as f:\n",
        "    reader = csv.reader(f)\n",
        "    reviews = list(reader)"
      ],
      "execution_count": null,
      "outputs": []
    },
    {
      "cell_type": "code",
      "metadata": {
        "id": "-_T_okVKwtiV"
      },
      "source": [
        "def get_reviewed_restaurants(uid, desc=True):\n",
        "    userreviews = list(filter(lambda r: r[0] == str(uid), reviews))\n",
        "    ratings = [r[2] for r in userreviews]\n",
        "    restaurants = list(map(lambda r: get_info(int(r[1])), userreviews))\n",
        "    names = [r['name'] for r in restaurants]\n",
        "    if desc==True:\n",
        "        return sorted(list(zip(names, ratings)), reverse=True, key=lambda x: x[1])\n",
        "    return sorted(list(zip(names, ratings)), key=lambda x: x[1])"
      ],
      "execution_count": null,
      "outputs": []
    },
    {
      "cell_type": "code",
      "metadata": {
        "id": "eEDzrFB_wumw"
      },
      "source": [
        "get_reviewed_restaurants(8145)"
      ],
      "execution_count": null,
      "outputs": []
    }
  ]
}